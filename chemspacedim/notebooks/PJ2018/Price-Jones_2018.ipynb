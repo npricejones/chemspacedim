{
 "cells": [
  {
   "cell_type": "markdown",
   "metadata": {},
   "source": [
    "# The dimensionality of stellar chemical space using spectra from the Apache Point Observatory Galactic Evolution Experiment \n",
    "\n",
    "This notebook describes how to create the figures in [Price-Jones & Bovy (2018)](https://ui.adsabs.harvard.edu/abs/2018MNRAS.475.1410P/abstract). To run this notebook fresh, please install the repository according to the instructions in the [READEME](https://github.com/npricejones/chemspacedim/blob/master/README.md).\n",
    "\n",
    "The purpose of the paper was to measure the number of independent dimensions in spectra from the Apache Point Observatory Galactic Evolution Experiment (APOGEE). "
   ]
  },
  {
   "cell_type": "markdown",
   "metadata": {},
   "source": [
    "## Package import"
   ]
  },
  {
   "cell_type": "code",
   "execution_count": 1,
   "metadata": {},
   "outputs": [],
   "source": [
    "# External packages\n",
    "import os, glob,sys\n",
    "import numpy as np\n",
    "import matplotlib.pyplot as plt\n",
    "from scipy.optimize import brentq\n",
    "from scipy.interpolate import interp1d\n",
    "from matplotlib.ticker import MultipleLocator,AutoMinorLocator\n",
    "from apogee.tools import wv2pix,pix2wv,toApStarGrid,toAspcapGrid\n",
    "\n",
    "# chemspacedim functions\n",
    "from chemspacedim.tools import histogram2d,plothist2d\n",
    "import spectralspace.sample.access_spectrum as acs\n",
    "from spectralspace.analysis.empca_residuals import *\n",
    "from spectralspace.examples.ncells_calculation import *\n",
    "from spectralspace.examples.comparative_plots import *\n",
    "from spectralspace.examples.pc_plotter import *\n",
    "import spectralspace.analysis.empca_residuals as empcares\n",
    "from spectralspace.analysis.empca_residuals import empca_residuals\n",
    "\n",
    "%matplotlib inline"
   ]
  },
  {
   "cell_type": "markdown",
   "metadata": {},
   "source": [
    "## `matplotlib` formatting"
   ]
  },
  {
   "cell_type": "code",
   "execution_count": 2,
   "metadata": {},
   "outputs": [],
   "source": [
    "import matplotlib\n",
    "font = {'family': 'serif',\n",
    "        'weight': 'normal',\n",
    "        'size'  :  20\n",
    "}\n",
    "\n",
    "matplotlib.rc('font',**font)"
   ]
  },
  {
   "cell_type": "code",
   "execution_count": 3,
   "metadata": {},
   "outputs": [],
   "source": [
    "datadir = 'mnt/c/Users/natal/astronomy/chemical-tagging/chemspacedim/notebooks/PJ2018/data'"
   ]
  },
  {
   "cell_type": "markdown",
   "metadata": {},
   "source": [
    "## Create data objects"
   ]
  },
  {
   "cell_type": "markdown",
   "metadata": {},
   "source": [
    "#### To generate data to create this plot, run the next box and fill in the prompts with responses given\n",
    "```Which data release? (Enter for 12): <press Enter>  \n",
    "Type done at any prompt when finished  \n",
    "Data key: TEFF  \n",
    "Default is full range. Match or slice? slice  \n",
    "Upper limit (Enter for maximum): <press Enter>  \n",
    "Lower limit (Enter for minimum): <press Enter> \n",
    "Found good limits  \n",
    "And/or? done```\n",
    "#### Note that this part can take a few minutes"
   ]
  },
  {
   "cell_type": "code",
   "execution_count": 4,
   "metadata": {},
   "outputs": [
    {
     "name": "stdin",
     "output_type": "stream",
     "text": [
      "Which data release? (Enter for 12):  12\n"
     ]
    },
    {
     "name": "stdout",
     "output_type": "stream",
     "text": [
      "properties  ['DR', 'EMPCA_wrapper', 'R2compare', '__class__', '__delattr__', '__dict__', '__dir__', '__doc__', '__eq__', '__format__', '__ge__', '__getattribute__', '__gt__', '__hash__', '__init__', '__init_subclass__', '__le__', '__lt__', '__module__', '__ne__', '__new__', '__reduce__', '__reduce_ex__', '__repr__', '__setattr__', '__sizeof__', '__str__', '__subclasshook__', '__weakref__', '_basicStructure', '_dataSource', '_getProperties', '_match', '_sampleInfo', '_sampleType', 'applyMask', 'checkArrays', 'continuumNormalize', 'correctUncertainty', 'data', 'directoryClean', 'fibFit', 'filterCopy', 'findCorrection', 'findFit', 'findResiduals', 'fitStatistic', 'func_sort', 'getDirectory', 'imshow', 'initArrays', 'logplot', 'makeArrays', 'makeMatrix', 'multiFit', 'numberStars', 'pixelEMPCA', 'plotHistogram', 'plot_example_fit', 'resizePixelEigvec', 'sample_wrapper', 'samplesplit', 'setDeltaR2', 'setR2', 'setR2noise', 'show_sample_coverage', 'uncorrectUncertainty']\n",
      "Type done at any prompt when finished\n"
     ]
    },
    {
     "name": "stdin",
     "output_type": "stream",
     "text": [
      "Data key:  TEFF\n",
      "Default is full range. Match or slice?  slice\n",
      "Upper limit (Enter for maximum):  \n",
      "Lower limit (Enter for minimum):  \n"
     ]
    },
    {
     "name": "stdout",
     "output_type": "stream",
     "text": [
      "Found good limits\n"
     ]
    },
    {
     "name": "stdin",
     "output_type": "stream",
     "text": [
      "And/or?  done\n"
     ]
    },
    {
     "name": "stderr",
     "output_type": "stream",
     "text": [
      "read star data:   0%|          | 0/19935 [00:00<?, ?it/s]"
     ]
    },
    {
     "name": "stdout",
     "output_type": "stream",
     "text": [
      "[('APSTAR_ID', 'S45'), ('ASPCAP_ID', 'S44'), ('APOGEE_ID', 'S18'), ('TELESCOPE', 'S8'), ('LOCATION_ID', '>i2'), ('FIELD', 'S16'), ('J', '>f4'), ('J_ERR', '>f4'), ('H', '>f4'), ('H_ERR', '>f4'), ('K', '>f4'), ('K_ERR', '>f4'), ('RA', '>f8'), ('DEC', '>f8'), ('GLON', '>f8'), ('GLAT', '>f8'), ('APOGEE_TARGET1', '>i4'), ('APOGEE_TARGET2', '>i4'), ('TARGFLAGS', 'S116'), ('NVISITS', '>i4'), ('COMMISS', '>i2'), ('SNR', '>f4'), ('STARFLAG', '>i4'), ('STARFLAGS', 'S129'), ('ANDFLAG', '>i4'), ('ANDFLAGS', 'S59'), ('VHELIO_AVG', '>f4'), ('VSCATTER', '>f4'), ('VERR', '>f4'), ('VERR_MED', '>f4'), ('STABLERV_CHI2', '>f4', (2,)), ('STABLERV_RCHI2', '>f4', (2,)), ('STABLERV_CHI2_PROB', '>f4', (2,)), ('EXTRATARG', '>i2'), ('PARAM', '>f4', (7,)), ('FPARAM', '>f4', (7,)), ('PARAM_COV', '>f4', (7, 7)), ('FPARAM_COV', '>f4', (7, 7)), ('ELEM', '>f4', (15,)), ('FELEM', '>f4', (15,)), ('ELEM_ERR', '>f4', (15,)), ('FELEM_ERR', '>f4', (15,)), ('TEFF', '>f4'), ('LOGG', '>f4'), ('PARAM_M_H', '>f4'), ('PARAM_ALPHA_M', '>f4'), ('TEFF_ERR', '>f4'), ('LOGG_ERR', '>f4'), ('PARAM_M_H_ERR', '>f4'), ('PARAM_ALPHA_M_ERR', '>f4'), ('ASPCAP_CHI2', '>f4'), ('ASPCAP_CLASS', 'S2'), ('ASPCAPFLAG', '>i4'), ('ASPCAPFLAGS', 'S153'), ('PARAMFLAG', '>i4', (7,)), ('AL_H', '>f4'), ('CA_H', '>f4'), ('C_H', '>f4'), ('FE_H', '>f4'), ('K_H', '>f4'), ('MG_H', '>f4'), ('MN_H', '>f4'), ('NA_H', '>f4'), ('NI_H', '>f4'), ('N_H', '>f4'), ('O_H', '>f4'), ('SI_H', '>f4'), ('S_H', '>f4'), ('TI_H', '>f4'), ('V_H', '>f4'), ('AL_H_ERR', '>f4'), ('CA_H_ERR', '>f4'), ('C_H_ERR', '>f4'), ('FE_H_ERR', '>f4'), ('K_H_ERR', '>f4'), ('MG_H_ERR', '>f4'), ('MN_H_ERR', '>f4'), ('NA_H_ERR', '>f4'), ('NI_H_ERR', '>f4'), ('N_H_ERR', '>f4'), ('O_H_ERR', '>f4'), ('SI_H_ERR', '>f4'), ('S_H_ERR', '>f4'), ('TI_H_ERR', '>f4'), ('V_H_ERR', '>f4'), ('AL_H_FLAG', '>i4'), ('CA_H_FLAG', '>i4'), ('C_H_FLAG', '>i4'), ('FE_H_FLAG', '>i4'), ('K_H_FLAG', '>i4'), ('MG_H_FLAG', '>i4'), ('MN_H_FLAG', '>i4'), ('NA_H_FLAG', '>i4'), ('NI_H_FLAG', '>i4'), ('N_H_FLAG', '>i4'), ('O_H_FLAG', '>i4'), ('SI_H_FLAG', '>i4'), ('S_H_FLAG', '>i4'), ('TI_H_FLAG', '>i4'), ('V_H_FLAG', '>i4'), ('ELEM_CHI2', '>f4', (15,)), ('ELEMFLAG', '>i4', (15,)), ('WASH_M', '>f4'), ('WASH_M_ERR', '>f4'), ('WASH_T2', '>f4'), ('WASH_T2_ERR', '>f4'), ('DDO51', '>f4'), ('DDO51_ERR', '>f4'), ('IRAC_3_6', '>f4'), ('IRAC_3_6_ERR', '>f4'), ('IRAC_4_5', '>f4'), ('IRAC_4_5_ERR', '>f4'), ('IRAC_5_8', '>f4'), ('IRAC_5_8_ERR', '>f4'), ('IRAC_8_0', '>f4'), ('IRAC_8_0_ERR', '>f4'), ('WISE_4_5', '>f4'), ('WISE_4_5_ERR', '>f4'), ('TARG_4_5', '>f4'), ('TARG_4_5_ERR', '>f4'), ('AK_TARG', '>f4'), ('AK_TARG_METHOD', 'S17'), ('WASH_DDO51_GIANT_FLAG', '>i2'), ('WASH_DDO51_STAR_FLAG', '>i2'), ('ALL_VISITS', 'S737'), ('VISITS', 'S665'), ('ALL_VISIT_PK', '>i4', (50,)), ('VISIT_PK', '>i4', (50,)), ('J0', '>f8'), ('H0', '>f8'), ('K0', '>f8'), ('METALS', '>f8'), ('ALPHAFE', '>f8'), ('ADDL_LOGG_CUT', '>i4'), ('RC_DIST', '>f8'), ('RC_DM', '>f8'), ('RC_GALR', '>f8'), ('RC_GALPHI', '>f8'), ('RC_GALZ', '>f8'), ('STAT', '>i4'), ('INVSF', '>f8'), ('PMRA', '>f8'), ('PMDEC', '>f8'), ('PMRA_ERR', '>f8'), ('PMDEC_ERR', '>f8'), ('PMMATCH', '>i4'), ('GALVR', '>f8'), ('GALVT', '>f8'), ('GALVZ', '>f8'), ('PMRA_PPMXL', '>f8'), ('PMDEC_PPMXL', '>f8'), ('PMRA_ERR_PPMXL', '>f8'), ('PMDEC_ERR_PPMXL', '>f8'), ('PMMATCH_PPMXL', '>i4'), ('GALVR_PPMXL', '>f8'), ('GALVT_PPMXL', '>f8'), ('GALVZ_PPMXL', '>f8'), ('MEANFIB', '<f4'), ('SIGFIB', '<f4')]\n",
      "                                                                                \r"
     ]
    },
    {
     "name": "stderr",
     "output_type": "stream",
     "text": [
      "read star data:   0%|          | 1/19935 [00:02<13:09:48,  2.38s/it]"
     ]
    },
    {
     "name": "stdout",
     "output_type": "stream",
     "text": [
      "                                                                                \r"
     ]
    },
    {
     "name": "stderr",
     "output_type": "stream",
     "text": [
      "read star data:   0%|          | 2/19935 [00:04<12:45:57,  2.31s/it]"
     ]
    },
    {
     "name": "stdout",
     "output_type": "stream",
     "text": [
      "                                                                                \r"
     ]
    },
    {
     "name": "stderr",
     "output_type": "stream",
     "text": [
      "read star data:   0%|          | 3/19935 [00:06<12:27:23,  2.25s/it]"
     ]
    },
    {
     "name": "stdout",
     "output_type": "stream",
     "text": [
      "                                                                                \r"
     ]
    },
    {
     "name": "stderr",
     "output_type": "stream",
     "text": [
      "read star data:   0%|          | 4/19935 [00:08<12:05:07,  2.18s/it]"
     ]
    },
    {
     "name": "stdout",
     "output_type": "stream",
     "text": [
      "                                                                                \r"
     ]
    },
    {
     "name": "stderr",
     "output_type": "stream",
     "text": [
      "read star data:   0%|          | 5/19935 [00:10<11:46:26,  2.13s/it]"
     ]
    },
    {
     "name": "stdout",
     "output_type": "stream",
     "text": [
      "                                                                                \r"
     ]
    },
    {
     "name": "stderr",
     "output_type": "stream",
     "text": [
      "read star data:   0%|          | 6/19935 [00:12<11:29:19,  2.08s/it]"
     ]
    },
    {
     "name": "stdout",
     "output_type": "stream",
     "text": [
      "                                                                                \r"
     ]
    },
    {
     "name": "stderr",
     "output_type": "stream",
     "text": [
      "read star data:   0%|          | 7/19935 [00:14<11:16:41,  2.04s/it]"
     ]
    },
    {
     "name": "stdout",
     "output_type": "stream",
     "text": [
      "                                                                                \r"
     ]
    },
    {
     "name": "stderr",
     "output_type": "stream",
     "text": [
      "read star data:   0%|          | 8/19935 [00:16<11:10:29,  2.02s/it]"
     ]
    },
    {
     "name": "stdout",
     "output_type": "stream",
     "text": [
      "                                                                                \r"
     ]
    },
    {
     "name": "stderr",
     "output_type": "stream",
     "text": [
      "read star data:   0%|          | 9/19935 [00:18<11:20:50,  2.05s/it]"
     ]
    },
    {
     "name": "stdout",
     "output_type": "stream",
     "text": [
      "                                                                                \r"
     ]
    },
    {
     "name": "stderr",
     "output_type": "stream",
     "text": [
      "read star data:   0%|          | 10/19935 [00:20<11:16:22,  2.04s/it]"
     ]
    },
    {
     "name": "stdout",
     "output_type": "stream",
     "text": [
      "                                                                                \r"
     ]
    },
    {
     "name": "stderr",
     "output_type": "stream",
     "text": [
      "read star data:   0%|          | 11/19935 [00:22<11:10:23,  2.02s/it]"
     ]
    },
    {
     "name": "stdout",
     "output_type": "stream",
     "text": [
      "                                                                                \r"
     ]
    },
    {
     "name": "stderr",
     "output_type": "stream",
     "text": [
      "read star data:   0%|          | 12/19935 [00:24<11:16:37,  2.04s/it]"
     ]
    },
    {
     "name": "stdout",
     "output_type": "stream",
     "text": [
      "                                                                                \r"
     ]
    },
    {
     "name": "stderr",
     "output_type": "stream",
     "text": [
      "read star data:   0%|          | 13/19935 [00:26<11:11:00,  2.02s/it]"
     ]
    },
    {
     "name": "stdout",
     "output_type": "stream",
     "text": [
      "                                                                                \r"
     ]
    },
    {
     "name": "stderr",
     "output_type": "stream",
     "text": [
      "read star data:   0%|          | 14/19935 [00:28<11:11:19,  2.02s/it]"
     ]
    },
    {
     "name": "stdout",
     "output_type": "stream",
     "text": [
      "                                                                                \r"
     ]
    },
    {
     "name": "stderr",
     "output_type": "stream",
     "text": [
      "read star data:   0%|          | 15/19935 [00:30<11:12:59,  2.03s/it]"
     ]
    },
    {
     "name": "stdout",
     "output_type": "stream",
     "text": [
      "                                                                                \r"
     ]
    },
    {
     "name": "stderr",
     "output_type": "stream",
     "text": [
      "read star data:   0%|          | 16/19935 [00:32<11:14:35,  2.03s/it]"
     ]
    },
    {
     "name": "stdout",
     "output_type": "stream",
     "text": [
      "                                                                                \r"
     ]
    },
    {
     "name": "stderr",
     "output_type": "stream",
     "text": [
      "read star data:   0%|          | 17/19935 [00:34<11:23:46,  2.06s/it]"
     ]
    },
    {
     "name": "stdout",
     "output_type": "stream",
     "text": [
      "                                                                                \r"
     ]
    },
    {
     "name": "stderr",
     "output_type": "stream",
     "text": [
      "read star data:   0%|          | 18/19935 [00:36<11:18:00,  2.04s/it]"
     ]
    },
    {
     "name": "stdout",
     "output_type": "stream",
     "text": [
      "                                                                                \r"
     ]
    },
    {
     "name": "stderr",
     "output_type": "stream",
     "text": [
      "read star data:   0%|          | 19/19935 [00:38<11:11:27,  2.02s/it]"
     ]
    },
    {
     "name": "stdout",
     "output_type": "stream",
     "text": [
      "                                                                                \r"
     ]
    },
    {
     "name": "stderr",
     "output_type": "stream",
     "text": [
      "read star data:   0%|          | 20/19935 [00:40<11:10:33,  2.02s/it]"
     ]
    },
    {
     "name": "stdout",
     "output_type": "stream",
     "text": [
      "                                                                                \r"
     ]
    },
    {
     "name": "stderr",
     "output_type": "stream",
     "text": [
      "read star data:   0%|          | 21/19935 [00:42<11:06:20,  2.01s/it]"
     ]
    },
    {
     "name": "stdout",
     "output_type": "stream",
     "text": [
      "                                                                                \r"
     ]
    },
    {
     "name": "stderr",
     "output_type": "stream",
     "text": [
      "read star data:   0%|          | 22/19935 [00:44<11:06:04,  2.01s/it]"
     ]
    },
    {
     "name": "stdout",
     "output_type": "stream",
     "text": [
      "                                                                                \r"
     ]
    },
    {
     "name": "stderr",
     "output_type": "stream",
     "text": [
      "read star data:   0%|          | 23/19935 [00:46<11:04:06,  2.00s/it]"
     ]
    },
    {
     "name": "stdout",
     "output_type": "stream",
     "text": [
      "                                                                                \r"
     ]
    },
    {
     "name": "stderr",
     "output_type": "stream",
     "text": [
      "read star data:   0%|          | 24/19935 [00:49<11:20:58,  2.05s/it]"
     ]
    },
    {
     "name": "stdout",
     "output_type": "stream",
     "text": [
      "                                                                                \r"
     ]
    },
    {
     "name": "stderr",
     "output_type": "stream",
     "text": [
      "read star data:   0%|          | 25/19935 [00:51<11:17:26,  2.04s/it]"
     ]
    },
    {
     "name": "stdout",
     "output_type": "stream",
     "text": [
      "                                                                                \r"
     ]
    },
    {
     "name": "stderr",
     "output_type": "stream",
     "text": [
      "read star data:   0%|          | 26/19935 [00:53<11:17:58,  2.04s/it]"
     ]
    },
    {
     "name": "stdout",
     "output_type": "stream",
     "text": [
      "                                                                                \r"
     ]
    },
    {
     "name": "stderr",
     "output_type": "stream",
     "text": [
      "read star data:   0%|          | 27/19935 [00:55<11:12:47,  2.03s/it]"
     ]
    },
    {
     "name": "stdout",
     "output_type": "stream",
     "text": [
      "                                                                                \r"
     ]
    },
    {
     "name": "stderr",
     "output_type": "stream",
     "text": [
      "read star data:   0%|          | 28/19935 [00:57<11:26:02,  2.07s/it]"
     ]
    },
    {
     "name": "stdout",
     "output_type": "stream",
     "text": [
      "                                                                                \r"
     ]
    },
    {
     "name": "stderr",
     "output_type": "stream",
     "text": [
      "read star data:   0%|          | 29/19935 [00:59<11:22:27,  2.06s/it]"
     ]
    },
    {
     "name": "stdout",
     "output_type": "stream",
     "text": [
      "                                                                                \r"
     ]
    },
    {
     "name": "stderr",
     "output_type": "stream",
     "text": [
      "read star data:   0%|          | 30/19935 [01:01<11:25:43,  2.07s/it]"
     ]
    },
    {
     "name": "stdout",
     "output_type": "stream",
     "text": [
      "                                                                                \r"
     ]
    },
    {
     "name": "stderr",
     "output_type": "stream",
     "text": [
      "read star data:   0%|          | 31/19935 [01:03<11:13:34,  2.03s/it]"
     ]
    },
    {
     "name": "stdout",
     "output_type": "stream",
     "text": [
      "                                                                                \r"
     ]
    },
    {
     "name": "stderr",
     "output_type": "stream",
     "text": [
      "read star data:   0%|          | 32/19935 [01:05<11:19:40,  2.05s/it]"
     ]
    },
    {
     "name": "stdout",
     "output_type": "stream",
     "text": [
      "                                                                                \r"
     ]
    },
    {
     "name": "stderr",
     "output_type": "stream",
     "text": [
      "read star data:   0%|          | 33/19935 [01:07<11:25:34,  2.07s/it]"
     ]
    },
    {
     "name": "stdout",
     "output_type": "stream",
     "text": [
      "                                                                                \r"
     ]
    },
    {
     "name": "stderr",
     "output_type": "stream",
     "text": [
      "read star data:   0%|          | 34/19935 [01:09<11:24:53,  2.06s/it]"
     ]
    },
    {
     "name": "stdout",
     "output_type": "stream",
     "text": [
      "                                                                                \r"
     ]
    },
    {
     "name": "stderr",
     "output_type": "stream",
     "text": [
      "read star data:   0%|          | 35/19935 [01:11<11:27:26,  2.07s/it]"
     ]
    },
    {
     "name": "stdout",
     "output_type": "stream",
     "text": [
      "                                                                                \r"
     ]
    },
    {
     "name": "stderr",
     "output_type": "stream",
     "text": [
      "read star data:   0%|          | 36/19935 [01:13<11:16:08,  2.04s/it]"
     ]
    },
    {
     "name": "stdout",
     "output_type": "stream",
     "text": [
      "                                                                                \r"
     ]
    },
    {
     "name": "stderr",
     "output_type": "stream",
     "text": [
      "read star data:   0%|          | 37/19935 [01:15<11:26:26,  2.07s/it]"
     ]
    },
    {
     "name": "stdout",
     "output_type": "stream",
     "text": [
      "                                                                                \r"
     ]
    },
    {
     "name": "stderr",
     "output_type": "stream",
     "text": [
      "read star data:   0%|          | 38/19935 [01:17<11:34:47,  2.10s/it]"
     ]
    },
    {
     "name": "stdout",
     "output_type": "stream",
     "text": [
      "                                                                                \r"
     ]
    },
    {
     "name": "stderr",
     "output_type": "stream",
     "text": [
      "read star data:   0%|          | 39/19935 [01:19<11:22:44,  2.06s/it]"
     ]
    },
    {
     "name": "stdout",
     "output_type": "stream",
     "text": [
      "                                                                                \r"
     ]
    },
    {
     "name": "stderr",
     "output_type": "stream",
     "text": [
      "read star data:   0%|          | 40/19935 [01:21<11:13:25,  2.03s/it]"
     ]
    },
    {
     "name": "stdout",
     "output_type": "stream",
     "text": [
      "                                                                                \r"
     ]
    },
    {
     "name": "stderr",
     "output_type": "stream",
     "text": [
      "read star data:   0%|          | 41/19935 [01:23<11:07:53,  2.01s/it]"
     ]
    },
    {
     "name": "stdout",
     "output_type": "stream",
     "text": [
      "                                                                                \r"
     ]
    },
    {
     "name": "stderr",
     "output_type": "stream",
     "text": [
      "read star data:   0%|          | 42/19935 [01:25<11:06:14,  2.01s/it]"
     ]
    },
    {
     "name": "stdout",
     "output_type": "stream",
     "text": [
      "Downloading file aspcapStar-r5-v603-2M00020505+5855219.fits ...\r"
     ]
    },
    {
     "ename": "KeyboardInterrupt",
     "evalue": "",
     "output_type": "error",
     "traceback": [
      "\u001b[0;31m-------------------------------------------------------------------------\u001b[0m",
      "\u001b[0;31mKeyboardInterrupt\u001b[0m                       Traceback (most recent call last)",
      "\u001b[0;32m<ipython-input-4-5d2d6fa12261>\u001b[0m in \u001b[0;36m<module>\u001b[0;34m\u001b[0m\n\u001b[1;32m      1\u001b[0m redclump = empca_residuals('apogee','red_clump',maskFilter,\n\u001b[0;32m----> 2\u001b[0;31m                           ask=True,degree=2,datadir=datadir)\n\u001b[0m",
      "\u001b[0;32m/mnt/c/Users/natal/astronomy/chemical-tagging/spectralspace/spectralspace/analysis/empca_residuals.py\u001b[0m in \u001b[0;36m__init__\u001b[0;34m(self, dataSource, sampleType, maskMaker, ask, datadict, datadir, func, badcombpixmask, minSNR, degree, nvecs, fibfit)\u001b[0m\n\u001b[1;32m    140\u001b[0m         mask.__init__(self,dataSource,sampleType,maskMaker,ask=ask,datadict=datadict,\n\u001b[1;32m    141\u001b[0m                       \u001b[0mminSNR\u001b[0m\u001b[0;34m=\u001b[0m\u001b[0mminSNR\u001b[0m\u001b[0;34m,\u001b[0m\u001b[0mdatadir\u001b[0m\u001b[0;34m=\u001b[0m\u001b[0mdatadir\u001b[0m\u001b[0;34m,\u001b[0m\u001b[0mfunc\u001b[0m\u001b[0;34m=\u001b[0m\u001b[0mfunc\u001b[0m\u001b[0;34m,\u001b[0m\u001b[0;34m\u001b[0m\u001b[0;34m\u001b[0m\u001b[0m\n\u001b[0;32m--> 142\u001b[0;31m                       badcombpixmask=badcombpixmask)\n\u001b[0m\u001b[1;32m    143\u001b[0m         \u001b[0mself\u001b[0m\u001b[0;34m.\u001b[0m\u001b[0mdegree\u001b[0m \u001b[0;34m=\u001b[0m \u001b[0mdegree\u001b[0m\u001b[0;34m\u001b[0m\u001b[0;34m\u001b[0m\u001b[0m\n\u001b[1;32m    144\u001b[0m         \u001b[0mself\u001b[0m\u001b[0;34m.\u001b[0m\u001b[0mpolynomial\u001b[0m \u001b[0;34m=\u001b[0m \u001b[0mPolynomialFeatures\u001b[0m\u001b[0;34m(\u001b[0m\u001b[0mdegree\u001b[0m\u001b[0;34m=\u001b[0m\u001b[0mdegree\u001b[0m\u001b[0;34m)\u001b[0m\u001b[0;34m\u001b[0m\u001b[0;34m\u001b[0m\u001b[0m\n",
      "\u001b[0;32m/mnt/c/Users/natal/astronomy/chemical-tagging/spectralspace/spectralspace/sample/mask_data.py\u001b[0m in \u001b[0;36m__init__\u001b[0;34m(self, dataSource, sampleType, maskMaker, ask, datadict, datadir, func, badcombpixmask, minSNR)\u001b[0m\n\u001b[1;32m     93\u001b[0m \u001b[0;34m\u001b[0m\u001b[0m\n\u001b[1;32m     94\u001b[0m         \"\"\"\n\u001b[0;32m---> 95\u001b[0;31m         \u001b[0msubStarSample\u001b[0m\u001b[0;34m.\u001b[0m\u001b[0m__init__\u001b[0m\u001b[0;34m(\u001b[0m\u001b[0mself\u001b[0m\u001b[0;34m,\u001b[0m\u001b[0mdataSource\u001b[0m\u001b[0;34m,\u001b[0m\u001b[0msampleType\u001b[0m\u001b[0;34m,\u001b[0m\u001b[0mask\u001b[0m\u001b[0;34m=\u001b[0m\u001b[0mask\u001b[0m\u001b[0;34m,\u001b[0m\u001b[0mdatadict\u001b[0m\u001b[0;34m=\u001b[0m\u001b[0mdatadict\u001b[0m\u001b[0;34m,\u001b[0m\u001b[0mdatadir\u001b[0m\u001b[0;34m=\u001b[0m\u001b[0mdatadir\u001b[0m\u001b[0;34m,\u001b[0m\u001b[0mfunc\u001b[0m\u001b[0;34m=\u001b[0m\u001b[0mfunc\u001b[0m\u001b[0;34m)\u001b[0m\u001b[0;34m\u001b[0m\u001b[0;34m\u001b[0m\u001b[0m\n\u001b[0m\u001b[1;32m     96\u001b[0m         \u001b[0;32mif\u001b[0m \u001b[0misinstance\u001b[0m\u001b[0;34m(\u001b[0m\u001b[0mbadcombpixmask\u001b[0m\u001b[0;34m,\u001b[0m\u001b[0mlist\u001b[0m\u001b[0;34m)\u001b[0m\u001b[0;34m:\u001b[0m\u001b[0;34m\u001b[0m\u001b[0;34m\u001b[0m\u001b[0m\n\u001b[1;32m     97\u001b[0m             \u001b[0mbadcombpixmask\u001b[0m\u001b[0;34m=\u001b[0m\u001b[0mnp\u001b[0m\u001b[0;34m.\u001b[0m\u001b[0marray\u001b[0m\u001b[0;34m(\u001b[0m\u001b[0mbadcombpixmask\u001b[0m\u001b[0;34m)\u001b[0m\u001b[0;34m\u001b[0m\u001b[0;34m\u001b[0m\u001b[0m\n",
      "\u001b[0;32m/mnt/c/Users/natal/astronomy/chemical-tagging/spectralspace/spectralspace/sample/star_sample.py\u001b[0m in \u001b[0;36m__init__\u001b[0;34m(self, dataSource, sampleType, ask, datadict, datadir, func)\u001b[0m\n\u001b[1;32m    577\u001b[0m         \u001b[0;31m#self.numberStars = len(self.matchingData)\u001b[0m\u001b[0;34m\u001b[0m\u001b[0;34m\u001b[0m\u001b[0;34m\u001b[0m\u001b[0m\n\u001b[1;32m    578\u001b[0m         \u001b[0;32mif\u001b[0m \u001b[0mself\u001b[0m\u001b[0;34m.\u001b[0m\u001b[0m_sampleType\u001b[0m \u001b[0;34m!=\u001b[0m \u001b[0;34m'syn'\u001b[0m\u001b[0;34m:\u001b[0m\u001b[0;34m\u001b[0m\u001b[0;34m\u001b[0m\u001b[0m\n\u001b[0;32m--> 579\u001b[0;31m             \u001b[0mself\u001b[0m\u001b[0;34m.\u001b[0m\u001b[0mcheckArrays\u001b[0m\u001b[0;34m(\u001b[0m\u001b[0;34m)\u001b[0m\u001b[0;34m\u001b[0m\u001b[0;34m\u001b[0m\u001b[0m\n\u001b[0m\u001b[1;32m    580\u001b[0m \u001b[0;34m\u001b[0m\u001b[0m\n\u001b[1;32m    581\u001b[0m     \u001b[0;32mdef\u001b[0m \u001b[0mnumberStars\u001b[0m\u001b[0;34m(\u001b[0m\u001b[0mself\u001b[0m\u001b[0;34m)\u001b[0m\u001b[0;34m:\u001b[0m\u001b[0;34m\u001b[0m\u001b[0;34m\u001b[0m\u001b[0m\n",
      "\u001b[0;32m/mnt/c/Users/natal/astronomy/chemical-tagging/spectralspace/spectralspace/sample/star_sample.py\u001b[0m in \u001b[0;36mcheckArrays\u001b[0;34m(self)\u001b[0m\n\u001b[1;32m    618\u001b[0m         \u001b[0;31m# If any file is missing, generate arrays and write to file\u001b[0m\u001b[0;34m\u001b[0m\u001b[0;34m\u001b[0m\u001b[0;34m\u001b[0m\u001b[0m\n\u001b[1;32m    619\u001b[0m         \u001b[0;32melif\u001b[0m \u001b[0;32mnot\u001b[0m \u001b[0mfexist\u001b[0m\u001b[0;34m:\u001b[0m\u001b[0;34m\u001b[0m\u001b[0;34m\u001b[0m\u001b[0m\n\u001b[0;32m--> 620\u001b[0;31m             \u001b[0mself\u001b[0m\u001b[0;34m.\u001b[0m\u001b[0mmakeArrays\u001b[0m\u001b[0;34m(\u001b[0m\u001b[0mself\u001b[0m\u001b[0;34m.\u001b[0m\u001b[0mmatchingData\u001b[0m\u001b[0;34m)\u001b[0m\u001b[0;34m\u001b[0m\u001b[0;34m\u001b[0m\u001b[0m\n\u001b[0m\u001b[1;32m    621\u001b[0m             \u001b[0mnp\u001b[0m\u001b[0;34m.\u001b[0m\u001b[0msave\u001b[0m\u001b[0;34m(\u001b[0m\u001b[0mself\u001b[0m\u001b[0;34m.\u001b[0m\u001b[0mname\u001b[0m\u001b[0;34m+\u001b[0m\u001b[0;34m'/teff.npy'\u001b[0m\u001b[0;34m,\u001b[0m\u001b[0mself\u001b[0m\u001b[0;34m.\u001b[0m\u001b[0mteff\u001b[0m\u001b[0;34m.\u001b[0m\u001b[0mdata\u001b[0m\u001b[0;34m)\u001b[0m\u001b[0;34m\u001b[0m\u001b[0;34m\u001b[0m\u001b[0m\n\u001b[1;32m    622\u001b[0m             \u001b[0mnp\u001b[0m\u001b[0;34m.\u001b[0m\u001b[0msave\u001b[0m\u001b[0;34m(\u001b[0m\u001b[0mself\u001b[0m\u001b[0;34m.\u001b[0m\u001b[0mname\u001b[0m\u001b[0;34m+\u001b[0m\u001b[0;34m'/logg.npy'\u001b[0m\u001b[0;34m,\u001b[0m\u001b[0mself\u001b[0m\u001b[0;34m.\u001b[0m\u001b[0mlogg\u001b[0m\u001b[0;34m.\u001b[0m\u001b[0mdata\u001b[0m\u001b[0;34m)\u001b[0m\u001b[0;34m\u001b[0m\u001b[0;34m\u001b[0m\u001b[0m\n",
      "\u001b[0;32m/mnt/c/Users/natal/astronomy/chemical-tagging/spectralspace/spectralspace/sample/star_sample.py\u001b[0m in \u001b[0;36mmakeArrays\u001b[0;34m(self, stardata)\u001b[0m\n\u001b[1;32m    235\u001b[0m                 self.spectra[star] = apread.aspcapStar(LOC,APO,ext=1,\n\u001b[1;32m    236\u001b[0m                                                        \u001b[0mheader\u001b[0m\u001b[0;34m=\u001b[0m\u001b[0;32mFalse\u001b[0m\u001b[0;34m,\u001b[0m\u001b[0mdr\u001b[0m\u001b[0;34m=\u001b[0m\u001b[0mself\u001b[0m\u001b[0;34m.\u001b[0m\u001b[0mDR\u001b[0m\u001b[0;34m,\u001b[0m\u001b[0;34m\u001b[0m\u001b[0;34m\u001b[0m\u001b[0m\n\u001b[0;32m--> 237\u001b[0;31m                                                        aspcapWavegrid=True)\n\u001b[0m\u001b[1;32m    238\u001b[0m                 self.spectra_errs[star] = apread.aspcapStar(LOC,APO,ext=2,\n\u001b[1;32m    239\u001b[0m                                                             \u001b[0mheader\u001b[0m\u001b[0;34m=\u001b[0m\u001b[0;32mFalse\u001b[0m\u001b[0;34m,\u001b[0m\u001b[0;34m\u001b[0m\u001b[0;34m\u001b[0m\u001b[0m\n",
      "\u001b[0;32m~/anaconda3/lib/python3.7/site-packages/apogee-1.-py3.7.egg/apogee/tools/read.py\u001b[0m in \u001b[0;36moutput_wrapper\u001b[0;34m(*args, **kwargs)\u001b[0m\n\u001b[1;32m     79\u001b[0m     \u001b[0;34m@\u001b[0m\u001b[0mwraps\u001b[0m\u001b[0;34m(\u001b[0m\u001b[0mfunc\u001b[0m\u001b[0;34m)\u001b[0m\u001b[0;34m\u001b[0m\u001b[0;34m\u001b[0m\u001b[0m\n\u001b[1;32m     80\u001b[0m     \u001b[0;32mdef\u001b[0m \u001b[0moutput_wrapper\u001b[0m\u001b[0;34m(\u001b[0m\u001b[0;34m*\u001b[0m\u001b[0margs\u001b[0m\u001b[0;34m,\u001b[0m\u001b[0;34m**\u001b[0m\u001b[0mkwargs\u001b[0m\u001b[0;34m)\u001b[0m\u001b[0;34m:\u001b[0m\u001b[0;34m\u001b[0m\u001b[0;34m\u001b[0m\u001b[0m\n\u001b[0;32m---> 81\u001b[0;31m         \u001b[0mout\u001b[0m\u001b[0;34m=\u001b[0m \u001b[0mfunc\u001b[0m\u001b[0;34m(\u001b[0m\u001b[0;34m*\u001b[0m\u001b[0margs\u001b[0m\u001b[0;34m,\u001b[0m\u001b[0;34m**\u001b[0m\u001b[0mkwargs\u001b[0m\u001b[0;34m)\u001b[0m\u001b[0;34m\u001b[0m\u001b[0;34m\u001b[0m\u001b[0m\n\u001b[0m\u001b[1;32m     82\u001b[0m         \u001b[0;32mif\u001b[0m \u001b[0mkwargs\u001b[0m\u001b[0;34m.\u001b[0m\u001b[0mget\u001b[0m\u001b[0;34m(\u001b[0m\u001b[0;34m'header'\u001b[0m\u001b[0;34m,\u001b[0m\u001b[0;32mTrue\u001b[0m\u001b[0;34m)\u001b[0m\u001b[0;34m:\u001b[0m\u001b[0;34m\u001b[0m\u001b[0;34m\u001b[0m\u001b[0m\n\u001b[1;32m     83\u001b[0m             \u001b[0mout\u001b[0m\u001b[0;34m,\u001b[0m \u001b[0mhdr\u001b[0m\u001b[0;34m=\u001b[0m \u001b[0mout\u001b[0m\u001b[0;34m\u001b[0m\u001b[0;34m\u001b[0m\u001b[0m\n",
      "\u001b[0;32m~/anaconda3/lib/python3.7/site-packages/apogee-1.-py3.7.egg/apogee/tools/read.py\u001b[0m in \u001b[0;36maspcapStar\u001b[0;34m(loc_id, apogee_id, telescope, ext, dr, header, aspcapWavegrid)\u001b[0m\n\u001b[1;32m    944\u001b[0m     \u001b[0mfilePath\u001b[0m\u001b[0;34m=\u001b[0m \u001b[0mpath\u001b[0m\u001b[0;34m.\u001b[0m\u001b[0maspcapStarPath\u001b[0m\u001b[0;34m(\u001b[0m\u001b[0mloc_id\u001b[0m\u001b[0;34m,\u001b[0m\u001b[0mapogee_id\u001b[0m\u001b[0;34m,\u001b[0m\u001b[0mdr\u001b[0m\u001b[0;34m=\u001b[0m\u001b[0mdr\u001b[0m\u001b[0;34m,\u001b[0m\u001b[0mtelescope\u001b[0m\u001b[0;34m=\u001b[0m\u001b[0mtelescope\u001b[0m\u001b[0;34m)\u001b[0m\u001b[0;34m\u001b[0m\u001b[0;34m\u001b[0m\u001b[0m\n\u001b[1;32m    945\u001b[0m     \u001b[0;32mif\u001b[0m \u001b[0;32mnot\u001b[0m \u001b[0mos\u001b[0m\u001b[0;34m.\u001b[0m\u001b[0mpath\u001b[0m\u001b[0;34m.\u001b[0m\u001b[0mexists\u001b[0m\u001b[0;34m(\u001b[0m\u001b[0mfilePath\u001b[0m\u001b[0;34m)\u001b[0m\u001b[0;34m:\u001b[0m\u001b[0;34m\u001b[0m\u001b[0;34m\u001b[0m\u001b[0m\n\u001b[0;32m--> 946\u001b[0;31m         \u001b[0mdownload\u001b[0m\u001b[0;34m.\u001b[0m\u001b[0maspcapStar\u001b[0m\u001b[0;34m(\u001b[0m\u001b[0mloc_id\u001b[0m\u001b[0;34m,\u001b[0m\u001b[0mapogee_id\u001b[0m\u001b[0;34m,\u001b[0m\u001b[0mdr\u001b[0m\u001b[0;34m=\u001b[0m\u001b[0mdr\u001b[0m\u001b[0;34m,\u001b[0m\u001b[0mtelescope\u001b[0m\u001b[0;34m=\u001b[0m\u001b[0mtelescope\u001b[0m\u001b[0;34m)\u001b[0m\u001b[0;34m\u001b[0m\u001b[0;34m\u001b[0m\u001b[0m\n\u001b[0m\u001b[1;32m    947\u001b[0m     \u001b[0;32mif\u001b[0m \u001b[0;32mnot\u001b[0m \u001b[0m_FITSIO_LOADED\u001b[0m\u001b[0;34m:\u001b[0m\u001b[0;34m\u001b[0m\u001b[0;34m\u001b[0m\u001b[0m\n\u001b[1;32m    948\u001b[0m         \u001b[0;31m# Using astropy, need to read header separately\u001b[0m\u001b[0;34m\u001b[0m\u001b[0;34m\u001b[0m\u001b[0;34m\u001b[0m\u001b[0m\n",
      "\u001b[0;32m~/anaconda3/lib/python3.7/site-packages/apogee-1.-py3.7.egg/apogee/tools/download.py\u001b[0m in \u001b[0;36maspcapStar\u001b[0;34m(loc_id, apogee_id, telescope, dr)\u001b[0m\n\u001b[1;32m    225\u001b[0m                                                 _dr_string(dr)),\n\u001b[1;32m    226\u001b[0m                                    _base_url(dr=dr))\n\u001b[0;32m--> 227\u001b[0;31m     \u001b[0m_download_file\u001b[0m\u001b[0;34m(\u001b[0m\u001b[0mdownloadPath\u001b[0m\u001b[0;34m,\u001b[0m\u001b[0mfilePath\u001b[0m\u001b[0;34m,\u001b[0m\u001b[0mdr\u001b[0m\u001b[0;34m)\u001b[0m\u001b[0;34m\u001b[0m\u001b[0;34m\u001b[0m\u001b[0m\n\u001b[0m\u001b[1;32m    228\u001b[0m     \u001b[0;32mreturn\u001b[0m \u001b[0;32mNone\u001b[0m\u001b[0;34m\u001b[0m\u001b[0;34m\u001b[0m\u001b[0m\n\u001b[1;32m    229\u001b[0m \u001b[0;34m\u001b[0m\u001b[0m\n",
      "\u001b[0;32m~/anaconda3/lib/python3.7/site-packages/apogee-1.-py3.7.egg/apogee/tools/download.py\u001b[0m in \u001b[0;36m_download_file\u001b[0;34m(downloadPath, filePath, dr, verbose, spider)\u001b[0m\n\u001b[1;32m    744\u001b[0m             \u001b[0;32mif\u001b[0m \u001b[0;32mnot\u001b[0m \u001b[0mverbose\u001b[0m\u001b[0;34m:\u001b[0m \u001b[0mcmd\u001b[0m\u001b[0;34m.\u001b[0m\u001b[0mappend\u001b[0m\u001b[0;34m(\u001b[0m\u001b[0;34m'-q'\u001b[0m\u001b[0;34m)\u001b[0m\u001b[0;34m\u001b[0m\u001b[0;34m\u001b[0m\u001b[0m\n\u001b[1;32m    745\u001b[0m             \u001b[0;32mif\u001b[0m \u001b[0mspider\u001b[0m\u001b[0;34m:\u001b[0m \u001b[0mcmd\u001b[0m\u001b[0;34m.\u001b[0m\u001b[0mappend\u001b[0m\u001b[0;34m(\u001b[0m\u001b[0;34m'--spider'\u001b[0m\u001b[0;34m)\u001b[0m\u001b[0;34m\u001b[0m\u001b[0;34m\u001b[0m\u001b[0m\n\u001b[0;32m--> 746\u001b[0;31m             \u001b[0msubprocess\u001b[0m\u001b[0;34m.\u001b[0m\u001b[0mcheck_call\u001b[0m\u001b[0;34m(\u001b[0m\u001b[0mcmd\u001b[0m\u001b[0;34m)\u001b[0m\u001b[0;34m\u001b[0m\u001b[0;34m\u001b[0m\u001b[0m\n\u001b[0m\u001b[1;32m    747\u001b[0m             \u001b[0;32mif\u001b[0m \u001b[0;32mnot\u001b[0m \u001b[0mspider\u001b[0m\u001b[0;34m:\u001b[0m \u001b[0mshutil\u001b[0m\u001b[0;34m.\u001b[0m\u001b[0mmove\u001b[0m\u001b[0;34m(\u001b[0m\u001b[0mtmp_savefilename\u001b[0m\u001b[0;34m,\u001b[0m\u001b[0mfilePath\u001b[0m\u001b[0;34m)\u001b[0m\u001b[0;34m\u001b[0m\u001b[0;34m\u001b[0m\u001b[0m\n\u001b[1;32m    748\u001b[0m             \u001b[0mdownloading\u001b[0m\u001b[0;34m=\u001b[0m \u001b[0;32mFalse\u001b[0m\u001b[0;34m\u001b[0m\u001b[0;34m\u001b[0m\u001b[0m\n",
      "\u001b[0;32m~/anaconda3/lib/python3.7/subprocess.py\u001b[0m in \u001b[0;36mcheck_call\u001b[0;34m(*popenargs, **kwargs)\u001b[0m\n\u001b[1;32m    356\u001b[0m     \u001b[0mcheck_call\u001b[0m\u001b[0;34m(\u001b[0m\u001b[0;34m[\u001b[0m\u001b[0;34m\"ls\"\u001b[0m\u001b[0;34m,\u001b[0m \u001b[0;34m\"-l\"\u001b[0m\u001b[0;34m]\u001b[0m\u001b[0;34m)\u001b[0m\u001b[0;34m\u001b[0m\u001b[0;34m\u001b[0m\u001b[0m\n\u001b[1;32m    357\u001b[0m     \"\"\"\n\u001b[0;32m--> 358\u001b[0;31m     \u001b[0mretcode\u001b[0m \u001b[0;34m=\u001b[0m \u001b[0mcall\u001b[0m\u001b[0;34m(\u001b[0m\u001b[0;34m*\u001b[0m\u001b[0mpopenargs\u001b[0m\u001b[0;34m,\u001b[0m \u001b[0;34m**\u001b[0m\u001b[0mkwargs\u001b[0m\u001b[0;34m)\u001b[0m\u001b[0;34m\u001b[0m\u001b[0;34m\u001b[0m\u001b[0m\n\u001b[0m\u001b[1;32m    359\u001b[0m     \u001b[0;32mif\u001b[0m \u001b[0mretcode\u001b[0m\u001b[0;34m:\u001b[0m\u001b[0;34m\u001b[0m\u001b[0;34m\u001b[0m\u001b[0m\n\u001b[1;32m    360\u001b[0m         \u001b[0mcmd\u001b[0m \u001b[0;34m=\u001b[0m \u001b[0mkwargs\u001b[0m\u001b[0;34m.\u001b[0m\u001b[0mget\u001b[0m\u001b[0;34m(\u001b[0m\u001b[0;34m\"args\"\u001b[0m\u001b[0;34m)\u001b[0m\u001b[0;34m\u001b[0m\u001b[0;34m\u001b[0m\u001b[0m\n",
      "\u001b[0;32m~/anaconda3/lib/python3.7/subprocess.py\u001b[0m in \u001b[0;36mcall\u001b[0;34m(timeout, *popenargs, **kwargs)\u001b[0m\n\u001b[1;32m    339\u001b[0m     \u001b[0;32mwith\u001b[0m \u001b[0mPopen\u001b[0m\u001b[0;34m(\u001b[0m\u001b[0;34m*\u001b[0m\u001b[0mpopenargs\u001b[0m\u001b[0;34m,\u001b[0m \u001b[0;34m**\u001b[0m\u001b[0mkwargs\u001b[0m\u001b[0;34m)\u001b[0m \u001b[0;32mas\u001b[0m \u001b[0mp\u001b[0m\u001b[0;34m:\u001b[0m\u001b[0;34m\u001b[0m\u001b[0;34m\u001b[0m\u001b[0m\n\u001b[1;32m    340\u001b[0m         \u001b[0;32mtry\u001b[0m\u001b[0;34m:\u001b[0m\u001b[0;34m\u001b[0m\u001b[0;34m\u001b[0m\u001b[0m\n\u001b[0;32m--> 341\u001b[0;31m             \u001b[0;32mreturn\u001b[0m \u001b[0mp\u001b[0m\u001b[0;34m.\u001b[0m\u001b[0mwait\u001b[0m\u001b[0;34m(\u001b[0m\u001b[0mtimeout\u001b[0m\u001b[0;34m=\u001b[0m\u001b[0mtimeout\u001b[0m\u001b[0;34m)\u001b[0m\u001b[0;34m\u001b[0m\u001b[0;34m\u001b[0m\u001b[0m\n\u001b[0m\u001b[1;32m    342\u001b[0m         \u001b[0;32mexcept\u001b[0m\u001b[0;34m:\u001b[0m  \u001b[0;31m# Including KeyboardInterrupt, wait handled that.\u001b[0m\u001b[0;34m\u001b[0m\u001b[0;34m\u001b[0m\u001b[0m\n\u001b[1;32m    343\u001b[0m             \u001b[0mp\u001b[0m\u001b[0;34m.\u001b[0m\u001b[0mkill\u001b[0m\u001b[0;34m(\u001b[0m\u001b[0;34m)\u001b[0m\u001b[0;34m\u001b[0m\u001b[0;34m\u001b[0m\u001b[0m\n",
      "\u001b[0;32m~/anaconda3/lib/python3.7/subprocess.py\u001b[0m in \u001b[0;36mwait\u001b[0;34m(self, timeout)\u001b[0m\n\u001b[1;32m   1017\u001b[0m             \u001b[0mendtime\u001b[0m \u001b[0;34m=\u001b[0m \u001b[0m_time\u001b[0m\u001b[0;34m(\u001b[0m\u001b[0;34m)\u001b[0m \u001b[0;34m+\u001b[0m \u001b[0mtimeout\u001b[0m\u001b[0;34m\u001b[0m\u001b[0;34m\u001b[0m\u001b[0m\n\u001b[1;32m   1018\u001b[0m         \u001b[0;32mtry\u001b[0m\u001b[0;34m:\u001b[0m\u001b[0;34m\u001b[0m\u001b[0;34m\u001b[0m\u001b[0m\n\u001b[0;32m-> 1019\u001b[0;31m             \u001b[0;32mreturn\u001b[0m \u001b[0mself\u001b[0m\u001b[0;34m.\u001b[0m\u001b[0m_wait\u001b[0m\u001b[0;34m(\u001b[0m\u001b[0mtimeout\u001b[0m\u001b[0;34m=\u001b[0m\u001b[0mtimeout\u001b[0m\u001b[0;34m)\u001b[0m\u001b[0;34m\u001b[0m\u001b[0;34m\u001b[0m\u001b[0m\n\u001b[0m\u001b[1;32m   1020\u001b[0m         \u001b[0;32mexcept\u001b[0m \u001b[0mKeyboardInterrupt\u001b[0m\u001b[0;34m:\u001b[0m\u001b[0;34m\u001b[0m\u001b[0;34m\u001b[0m\u001b[0m\n\u001b[1;32m   1021\u001b[0m             \u001b[0;31m# https://bugs.python.org/issue25942\u001b[0m\u001b[0;34m\u001b[0m\u001b[0;34m\u001b[0m\u001b[0;34m\u001b[0m\u001b[0m\n",
      "\u001b[0;32m~/anaconda3/lib/python3.7/subprocess.py\u001b[0m in \u001b[0;36m_wait\u001b[0;34m(self, timeout)\u001b[0m\n\u001b[1;32m   1651\u001b[0m                         \u001b[0;32mif\u001b[0m \u001b[0mself\u001b[0m\u001b[0;34m.\u001b[0m\u001b[0mreturncode\u001b[0m \u001b[0;32mis\u001b[0m \u001b[0;32mnot\u001b[0m \u001b[0;32mNone\u001b[0m\u001b[0;34m:\u001b[0m\u001b[0;34m\u001b[0m\u001b[0;34m\u001b[0m\u001b[0m\n\u001b[1;32m   1652\u001b[0m                             \u001b[0;32mbreak\u001b[0m  \u001b[0;31m# Another thread waited.\u001b[0m\u001b[0;34m\u001b[0m\u001b[0;34m\u001b[0m\u001b[0m\n\u001b[0;32m-> 1653\u001b[0;31m                         \u001b[0;34m(\u001b[0m\u001b[0mpid\u001b[0m\u001b[0;34m,\u001b[0m \u001b[0msts\u001b[0m\u001b[0;34m)\u001b[0m \u001b[0;34m=\u001b[0m \u001b[0mself\u001b[0m\u001b[0;34m.\u001b[0m\u001b[0m_try_wait\u001b[0m\u001b[0;34m(\u001b[0m\u001b[0;36m0\u001b[0m\u001b[0;34m)\u001b[0m\u001b[0;34m\u001b[0m\u001b[0;34m\u001b[0m\u001b[0m\n\u001b[0m\u001b[1;32m   1654\u001b[0m                         \u001b[0;31m# Check the pid and loop as waitpid has been known to\u001b[0m\u001b[0;34m\u001b[0m\u001b[0;34m\u001b[0m\u001b[0;34m\u001b[0m\u001b[0m\n\u001b[1;32m   1655\u001b[0m                         \u001b[0;31m# return 0 even without WNOHANG in odd situations.\u001b[0m\u001b[0;34m\u001b[0m\u001b[0;34m\u001b[0m\u001b[0;34m\u001b[0m\u001b[0m\n",
      "\u001b[0;32m~/anaconda3/lib/python3.7/subprocess.py\u001b[0m in \u001b[0;36m_try_wait\u001b[0;34m(self, wait_flags)\u001b[0m\n\u001b[1;32m   1609\u001b[0m             \u001b[0;34m\"\"\"All callers to this function MUST hold self._waitpid_lock.\"\"\"\u001b[0m\u001b[0;34m\u001b[0m\u001b[0;34m\u001b[0m\u001b[0m\n\u001b[1;32m   1610\u001b[0m             \u001b[0;32mtry\u001b[0m\u001b[0;34m:\u001b[0m\u001b[0;34m\u001b[0m\u001b[0;34m\u001b[0m\u001b[0m\n\u001b[0;32m-> 1611\u001b[0;31m                 \u001b[0;34m(\u001b[0m\u001b[0mpid\u001b[0m\u001b[0;34m,\u001b[0m \u001b[0msts\u001b[0m\u001b[0;34m)\u001b[0m \u001b[0;34m=\u001b[0m \u001b[0mos\u001b[0m\u001b[0;34m.\u001b[0m\u001b[0mwaitpid\u001b[0m\u001b[0;34m(\u001b[0m\u001b[0mself\u001b[0m\u001b[0;34m.\u001b[0m\u001b[0mpid\u001b[0m\u001b[0;34m,\u001b[0m \u001b[0mwait_flags\u001b[0m\u001b[0;34m)\u001b[0m\u001b[0;34m\u001b[0m\u001b[0;34m\u001b[0m\u001b[0m\n\u001b[0m\u001b[1;32m   1612\u001b[0m             \u001b[0;32mexcept\u001b[0m \u001b[0mChildProcessError\u001b[0m\u001b[0;34m:\u001b[0m\u001b[0;34m\u001b[0m\u001b[0;34m\u001b[0m\u001b[0m\n\u001b[1;32m   1613\u001b[0m                 \u001b[0;31m# This happens if SIGCLD is set to be ignored or waiting\u001b[0m\u001b[0;34m\u001b[0m\u001b[0;34m\u001b[0m\u001b[0;34m\u001b[0m\u001b[0m\n",
      "\u001b[0;31mKeyboardInterrupt\u001b[0m: "
     ]
    }
   ],
   "source": [
    "redclump = empca_residuals('apogee','red_clump',maskFilter,\n",
    "                          ask=True,degree=2,datadir=datadir)"
   ]
  },
  {
   "cell_type": "markdown",
   "metadata": {},
   "source": [
    "#### Now run the box below and fill in the prompts with the responses given\n",
    "```Which data release? (Enter for 12): <press Enter>  \n",
    "Type done at any prompt when finished  \n",
    "Data key: TEFF  \n",
    "Default is full range. Match or slice? slice  \n",
    "Upper limit (Enter for maximum): <press Enter>  \n",
    "Lower limit (Enter for minimum): <press Enter>  \n",
    "Found good limits  \n",
    "And/or? done```\n",
    "#### Note that this part can take a few minutes"
   ]
  },
  {
   "cell_type": "code",
   "execution_count": null,
   "metadata": {},
   "outputs": [],
   "source": [
    "#redgiant = empca_residuals('apogee','red_giant',maskFilter,\n",
    "#                           ask=True,degree=2,datadir=datadir)"
   ]
  },
  {
   "cell_type": "markdown",
   "metadata": {},
   "source": [
    "## Figure 1 - Hertzsprung-Russell Diagrams"
   ]
  },
  {
   "cell_type": "code",
   "execution_count": null,
   "metadata": {},
   "outputs": [],
   "source": [
    "# Create figure of appropriate size\n",
    "fig = plt.figure(figsize=(15,6))\n",
    "# Create red giant subplot\n",
    "ax = fig.add_subplot(121)\n",
    "rgloggteff = histogram2d(redgiant.teff,redgiant.logg,bins=120)\n",
    "plothist2d(fig,ax,rgloggteff,vmax=35)\n",
    "\n",
    "# Tweaking appearance\n",
    "plt.ylim(4,0)\n",
    "plt.xlim(6000,3500)\n",
    "# Don't plot on extremes of axis\n",
    "plt.xticks(np.arange(4000,6000,500)[::-1],fontsize=20)\n",
    "# Add minor ticks on both axes\n",
    "xminorlocator = MultipleLocator(250./2)\n",
    "ax.xaxis.set_minor_locator(xminorlocator)\n",
    "yminorlocator = MultipleLocator(0.25)\n",
    "ax.yaxis.set_minor_locator(yminorlocator)\n",
    "plt.xticks(np.arange(4000,6000,500)[::-1],fontsize=20)\n",
    "plt.yticks(fontsize=20)\n",
    "# Adjust tick thickness and length\n",
    "plt.tick_params(which='both', width=2)\n",
    "plt.tick_params(which='major',length=7)\n",
    "plt.tick_params(which='minor',length=4)\n",
    "# Add axis labels\n",
    "plt.ylabel(r'$\\log g$',fontsize=26)\n",
    "plt.xlabel(r'$T_{\\mathrm{eff}}\\,\\,(\\mathrm{K})$',fontsize=26)\n",
    "# Shade sample area\n",
    "plt.axhline(2,color='k',ls='--',lw=2)\n",
    "plt.axhline(4,color='k',ls='--',lw=2)\n",
    "plt.fill_between(np.arange(3500,6100,100),4,2,alpha=0.1,color='k')\n",
    "# Add sample description\n",
    "plt.text(5800,0.5,'red giant\\nstars',va='top')\n",
    "\n",
    "# Create red clump subplot\n",
    "ax = fig.add_subplot(122)\n",
    "rcloggteff = histogram2d(redclump.teff,redclump.logg,bins=120)\n",
    "plothist2d(fig,ax,rcloggteff,vmax=35)\n",
    "\n",
    "# Tweaking appearance\n",
    "plt.ylim(4,0)\n",
    "plt.xlim(6000,3500)\n",
    "# Don't plot on extremes of x axis\n",
    "plt.xticks(np.arange(4000,6000,500)[::-1],fontsize=20)\n",
    "# Add minor ticks to both axes\n",
    "xminorlocator = MultipleLocator(250./2)\n",
    "ax.xaxis.set_minor_locator(xminorlocator)\n",
    "yminorlocator = MultipleLocator(0.25)\n",
    "ax.yaxis.set_minor_locator(yminorlocator)\n",
    "plt.yticks(fontsize=20)\n",
    "# Adjust tick thickness and length\n",
    "plt.tick_params(which='both', width=2)\n",
    "plt.tick_params(which='major',length=7)\n",
    "plt.tick_params(which='minor',length=4)\n",
    "# Add axis labels\n",
    "plt.ylabel(r'$\\log g$',fontsize=26)\n",
    "plt.xlabel(r'$T_{\\mathrm{eff}}\\,\\,(\\mathrm{K})$',fontsize=26)\n",
    "# Shade sample region\n",
    "plt.axvline(4700,color='k',ls='--',lw=2)\n",
    "plt.axvline(4900,color='k',ls='--',lw=2)\n",
    "plt.fill_between(np.arange(4700,5000,100),4,0,alpha=0.1,color='k')\n",
    "# Label sample\n",
    "plt.text(5800,0.5,'red clump\\nstars',va='top')\n",
    "\n",
    "# Reduce space between plots and save\n",
    "plt.subplots_adjust(wspace=0.2)\n",
    "plt.savefig('PJ2018/figure1.pdf')"
   ]
  },
  {
   "cell_type": "markdown",
   "metadata": {},
   "source": [
    "## Figure 2 - Example polynomial fit for NGC6819"
   ]
  },
  {
   "cell_type": "markdown",
   "metadata": {},
   "source": [
    "#### Run the box below using the bolded responses to the prompts\n",
    "\n",
    "```Which data release? (Enter for 12): <press Enter>  \n",
    "Type done at any prompt when finished  \n",
    "Data key: CLUSTER  \n",
    "Default is full range. Match or slice? match  \n",
    "Match value: N6819  \n",
    "And/or? done```"
   ]
  },
  {
   "cell_type": "code",
   "execution_count": null,
   "metadata": {},
   "outputs": [],
   "source": [
    "oc = empca_residuals('apogee','clusters',maskFilter,ask=True,degree=2,datadir=datadir)\n",
    "oc.findResiduals(minStarNum=5,gen=True)"
   ]
  },
  {
   "cell_type": "code",
   "execution_count": null,
   "metadata": {},
   "outputs": [],
   "source": [
    "oc.plot_example_fit(indep=1,pixel=4313,xlabel='$T_{\\mathrm{eff}}$ - med($T_{\\mathrm{eff}}$) (K)',figsize=(10,8))\n",
    "plt.subplots_adjust(left=0.2)\n",
    "plt.savefig('PJ2018/figure2.pdf')"
   ]
  },
  {
   "cell_type": "markdown",
   "metadata": {},
   "source": [
    "## Figure 3 - Comparing EMPCA model with data"
   ]
  },
  {
   "cell_type": "markdown",
   "metadata": {},
   "source": [
    "#### Run the box below using the given responses to the prompts\n",
    "\n",
    "```Which data release? (Enter for 12): <press Enter>  \n",
    "Type done at any prompt when finished  \n",
    "Data key: TEFF  \n",
    "Default is full range. Match or slice? slice    \n",
    "Upper limit (Enter for maximum): 4900   \n",
    "Lower limit (Enter for minimum): 4700  \n",
    "Found good limits  \n",
    "And/or? and \n",
    "Data key: MEANFIB  \n",
    "Default is full range. Match or slice? slice  \n",
    "Upper limit (Enter for maximum): 300  \n",
    "Lower limit (Enter for minimum): 100  \n",
    "Found good limits  \n",
    "And/or? done```\n",
    "\n",
    "#### This box will take a few minutes to run"
   ]
  },
  {
   "cell_type": "code",
   "execution_count": null,
   "metadata": {},
   "outputs": [],
   "source": [
    "subrc = empca_residuals('apogee','red_clump',maskFilter,ask=True,degree=2,badcombpixmask=7935,datadir = datadir)\n",
    "subrc.findResiduals(gen=False)"
   ]
  },
  {
   "cell_type": "markdown",
   "metadata": {},
   "source": [
    "#### This box will take a few hours to run"
   ]
  },
  {
   "cell_type": "code",
   "execution_count": null,
   "metadata": {},
   "outputs": [],
   "source": [
    "subrc.pixelEMPCA(nvecs=20,varfunc=meanMed,savename='eig20_minSNR50_corrNone_meanMed.pkl')"
   ]
  },
  {
   "cell_type": "code",
   "execution_count": null,
   "metadata": {},
   "outputs": [],
   "source": [
    "subrcmodel = acs.pklread('{0}/red_clump_12_TEFF_up4900.0_lo4700.0_MEANFIB_up300.0_lo100.0/bm7935/eig20_minSNR50_corrNone_meanMed.pkl'.format(datadir))\n",
    "# Retrieve data\n",
    "subrcmodel=getarrays(subrcmodel)\n",
    "# Reconstruct unsaved data from model\n",
    "subrcmodel=reconstruct_EMPCA_data('{0}/red_clump_12_TEFF_up4900.0_lo4700.0_MEANFIB_up300.0_lo100.0/bm7935'.format(datadir),subrcmodel,minStarNum=5)\n",
    "# Start with baseline as \n",
    "totalapprox = np.tile(np.ma.mean(subrcmodel.residuals,axis=0),(subrcmodel.residuals.shape[0],1))\n",
    "nvec = 8\n",
    "for i in range(nvec):\n",
    "    totalapprox += np.outer(subrcmodel.coeff[:, i], subrcmodel.eigvec[i])"
   ]
  },
  {
   "cell_type": "code",
   "execution_count": null,
   "metadata": {},
   "outputs": [],
   "source": [
    "# Choose star\n",
    "indx=312\n",
    "# Retrieve plot colours\n",
    "colors = plt.get_cmap('plasma')(np.linspace(0,0.85,2))\n",
    "# Set bounds on the apStarGrid\n",
    "pixup = 8575\n",
    "pixdown = 0\n",
    "\n",
    "# Convert spectra to apStarGrid and reapply mask\n",
    "fitspec = toApStarGrid(subrcmodel.fitspec[indx])\n",
    "fitspec = np.ma.masked_array(fitspec,mask=fitspec==0)\n",
    "modelspec = toApStarGrid(totalapprox[indx])\n",
    "modelspec = np.ma.masked_array(modelspec,mask=modelspec==0)\n",
    "compspec = toApStarGrid(subrcmodel.spectra[indx])\n",
    "compspec = np.ma.masked_array(compspec,mask=(modelspec.mask|fitspec.mask))\n",
    "resspec = toApStarGrid(subrcmodel.residuals[indx])\n",
    "resspec = np.ma.masked_array(resspec,mask=compspec.mask)\n",
    "errspec = toApStarGrid(subrcmodel.spectra_errs[indx])\n",
    "errspec = np.ma.masked_array(errspec,mask=compspec.mask)\n",
    "# Create array of wavelength values\n",
    "wvs = pix2wv(np.arange(pixdown,pixup),apStarWavegrid = True)/1e4\n",
    "# Specify xtick location\n",
    "stepsize = 0.05\n",
    "xticks = np.linspace(wvs[0],wvs[-1]+stepsize,stepsize)\n",
    "\n",
    "# Initialize figure\n",
    "plt.figure(figsize=(15,5))\n",
    "\n",
    "# Begin model subplot\n",
    "fit = plt.subplot2grid((3,1), (0, 0), rowspan=2)\n",
    "# Plot spectrum and model\n",
    "fit.plot(wvs,compspec[pixdown:pixup],lw=0.5,color=colors[0],label='original spectrum')\n",
    "fit.plot(wvs,(modelspec[pixdown:pixup]+fitspec[pixdown:pixup]),lw=0.5,color=colors[-1],label='model spectrum:\\n{0} principal components'.format(nvec))\n",
    "fit.set_xlim(wvs[0],wvs[-1])\n",
    "# Add minor ticks and labels\n",
    "xminorlocator = AutoMinorLocator()\n",
    "fit.xaxis.set_minor_locator(xminorlocator)\n",
    "yminorlocator = AutoMinorLocator()\n",
    "fit.yaxis.set_minor_locator(yminorlocator)\n",
    "fit.set_xticklabels(['']*len(xticks))\n",
    "fit.set_ylabel('normalized flux')\n",
    "ymax=1.1\n",
    "ymin=0.6\n",
    "yticks = np.linspace(ymin,ymax,6)\n",
    "fit.set_yticks(yticks)\n",
    "fit.set_yticklabels(yticks)\n",
    "# Create legend\n",
    "legend = fit.legend(loc='best',fontsize=15)\n",
    "legend.get_frame().set_linewidth(0.0)\n",
    "for legobj in legend.legendHandles:\n",
    "    legobj.set_linewidth(4.0)\n",
    "    \n",
    "# Begin residual subplot\n",
    "res = plt.subplot2grid((3,1), (2, 0))\n",
    "# Plot model residuals\n",
    "res.plot(wvs,(compspec[pixdown:pixup] - (modelspec[pixdown:pixup]+fitspec[pixdown:pixup])),lw=0.3,color=colors[-1])\n",
    "# Mark median measurement uncertainty\n",
    "res.axhline(-np.ma.median(errspec[pixdown:pixup]),color='k')\n",
    "res.axhline(np.ma.median(errspec[pixdown:pixup]),color='k')\n",
    "res.set_xlim(wvs[0],wvs[-1])\n",
    "# Add minor ticks and labels\n",
    "ymax=0.02\n",
    "ymin=-0.02\n",
    "yticks = np.linspace(ymin,ymax,5)\n",
    "res.set_ylim(ymin,ymax)\n",
    "res.set_yticks(yticks)\n",
    "res.set_yticklabels(yticks)\n",
    "xminorlocator = AutoMinorLocator()\n",
    "res.xaxis.set_minor_locator(xminorlocator)\n",
    "yminorlocator = AutoMinorLocator()\n",
    "res.yaxis.set_minor_locator(yminorlocator)\n",
    "res.set_ylabel('residuals')\n",
    "res.set_xlabel('$\\lambda\\,\\,(\\mu m)$',fontsize=26)\n",
    "\n",
    "# Adjust subplot positions and save figure\n",
    "plt.subplots_adjust(bottom=0.2)\n",
    "plt.savefig('PJ2018/figure3.pdf')"
   ]
  },
  {
   "cell_type": "markdown",
   "metadata": {},
   "source": [
    "## Figure 4 - Distribution of model residuals"
   ]
  },
  {
   "cell_type": "code",
   "execution_count": null,
   "metadata": {},
   "outputs": [],
   "source": [
    "subrcmodel = acs.pklread('{0}/red_clump_12_TEFF_up4900.0_lo4700.0_MEANFIB_up300.0_lo100.0/bm7935/eig20_minSNR50_corrNone_meanMed.pkl'.format(datadir))\n",
    "# Retrieve data\n",
    "subrcmodel=getarrays(subrcmodel)\n",
    "# Reconstruct unsaved data from model\n",
    "subrcmodel=reconstruct_EMPCA_data('{0}/red_clump_12_TEFF_up4900.0_lo4700.0_MEANFIB_up300.0_lo100.0/bm7935'.format(datadir),subrcmodel,minStarNum=5)\n",
    "\n",
    "# Choose star\n",
    "#indx=np.random.randint(0,len(subrcmodel.fitspec))\n",
    "# Set bounds on the apStarGrid\n",
    "pixup = 8575\n",
    "pixdown = 0\n",
    "\n",
    "nstar = len(subrcmodel.spectra)\n",
    "\n",
    "# Convert spectra to apStarGrid and reapply mask\n",
    "fitspecs = np.ma.masked_array(np.zeros((nstar,8575)))\n",
    "compspecs = np.ma.masked_array(np.zeros((nstar,8575)))\n",
    "resspecs = np.ma.masked_array(np.zeros((nstar,8575)))\n",
    "errspecs = np.ma.masked_array(np.zeros((nstar,8575)))\n",
    "for indx in tqdm(range(nstar)):\n",
    "    fitspec = toApStarGrid(subrcmodel.fitspec[indx])\n",
    "    fitspecs[indx] = np.ma.masked_array(fitspec,mask=fitspec==0)\n",
    "    compspec = toApStarGrid(subrcmodel.spectra[indx])\n",
    "    compspecs[indx] = np.ma.masked_array(compspec,mask=(modelspec.mask|fitspecs[indx].mask))\n",
    "    resspec = toApStarGrid(subrcmodel.residuals[indx])\n",
    "    resspecs[indx] = np.ma.masked_array(resspec,mask=compspecs[indx].mask)\n",
    "    errspec = toApStarGrid(subrcmodel.spectra_errs[indx])\n",
    "    errspecs[indx] = np.ma.masked_array(errspec,mask=compspecs[indx].mask)\n",
    "\n",
    "# Create array of wavelength values\n",
    "wvs = pix2wv(np.arange(pixdown,pixup),apStarWavegrid = True)/1e4\n"
   ]
  },
  {
   "cell_type": "code",
   "execution_count": null,
   "metadata": {},
   "outputs": [],
   "source": [
    "\n",
    "nvecs = np.arange(0,21)\n",
    "# Retrieve plot colours\n",
    "fig=plt.figure(figsize=(10,8))\n",
    "ax=plt.subplot(111)\n",
    "ax.set_yscale('log')\n",
    "colors = plt.get_cmap('plasma')(np.linspace(0,0.85,9))\n",
    "modelspecs = np.ma.masked_array(np.zeros((nstar,8575)))\n",
    "xmin=-0.05\n",
    "xmax=0.05\n",
    "\n",
    "s = 0\n",
    "respecs = np.ma.masked_array(np.zeros((len(nvecs)*nstar,8575)))\n",
    "for nvec in tqdm([0,4,8]):#,15,20]):\n",
    "    totalapprox = np.tile(np.ma.mean(subrcmodel.residuals,axis=0),(subrcmodel.residuals.shape[0],1))\n",
    "    for i in range(nvecs[nvec]):\n",
    "        totalapprox += np.outer(subrcmodel.coeff[:, i], subrcmodel.eigvec[i])\n",
    "    for indx in range(nstar):\n",
    "        modelspec = toApStarGrid(totalapprox[indx])\n",
    "        modelspecs[indx] = np.ma.masked_array(modelspec,mask=modelspec==0)\n",
    "    specs = compspecs - (modelspecs+fitspecs)\n",
    "    respecs[s:s+nstar] = specs\n",
    "    s+=nstar\n",
    "    step = 0.0006\n",
    "    edges = np.arange(xmin,xmax,step)\n",
    "    hist,bin_edges = np.histogram(specs[specs.mask==False],bins=edges)\n",
    "    xcoords = (bin_edges + ((np.roll(bin_edges,1)-bin_edges)/2.))[1:]\n",
    "    widths = (np.roll(bin_edges,1)-bin_edges)[1:]\n",
    "    ax.step(xcoords,hist,color=colors[nvec],linewidth=3,label='{0} PCs'.format(nvecs[nvec]),zorder=1)\n",
    "ax.set_ylabel('number of pixels',fontsize=18)\n",
    "ax.set_xlabel('model residuals',fontsize=18)\n",
    "xminorlocator = AutoMinorLocator()\n",
    "ax.xaxis.set_minor_locator(xminorlocator)\n",
    "legend = plt.legend(loc='best')\n",
    "legend.get_frame().set_linewidth(0.0)\n",
    "ax.tick_params(which='major',direction='in',length=5,width=2,bottom=True,top=True,left=True,right=True)\n",
    "ax.tick_params(which='minor',direction='in',length=4,width=1.5,bottom=True,top=True,left=True,right=True)\n",
    "plt.savefig('PJ2018/figure4.pdf)"
   ]
  },
  {
   "cell_type": "markdown",
   "metadata": {},
   "source": [
    "## Figure 5 - Open cluster R2 values"
   ]
  },
  {
   "cell_type": "markdown",
   "metadata": {},
   "source": [
    "#### Run the box below using the given responses to the prompts\n",
    "\n",
    "```Which data release? (Enter for 12): <press Enter>  \n",
    "Type done at any prompt when finished   \n",
    "Data key: CLUSTER  \n",
    "Default is full range. Match or slice? match  \n",
    "Match value: N6819   \n",
    "And/or? done  ```\n",
    "\n",
    "#### This box will run in a minute or two"
   ]
  },
  {
   "cell_type": "code",
   "execution_count": null,
   "metadata": {},
   "outputs": [],
   "source": [
    "oc = empca_residuals('apogee','clusters',maskFilter,ask=True,degree=2,datadir = datadir)\n",
    "oc.findResiduals(gen=True)\n",
    "oc.pixelEMPCA(nvecs=5,varfunc=np.ma.var,savename='eig5_minSNR50_corrNone_var.pkl')\n",
    "oc.pixelEMPCA(nvecs=5,varfunc=meanMed,savename='eig5_minSNR50_corrNone_meanMed.pkl')"
   ]
  },
  {
   "cell_type": "markdown",
   "metadata": {},
   "source": [
    "#### Run the box below using the given responses to the prompts\n",
    "\n",
    "```Which data release? (Enter for 12): <press Enter>  \n",
    "Type done at any prompt when finished   \n",
    "Data key: CLUSTER  \n",
    "Default is full range. Match or slice? match  \n",
    "Match value: N6819   \n",
    "And/or? and  \n",
    "Data key: MEANFIB  \n",
    "Default is full range. Match or slice? slice  \n",
    "Upper limit (Enter for maximum): 300  \n",
    "Lower limit (Enter for minimum): 100  \n",
    "Found good limits  \n",
    "And/or? done```\n",
    "\n",
    "#### This box will run in a minute or two"
   ]
  },
  {
   "cell_type": "code",
   "execution_count": null,
   "metadata": {},
   "outputs": [],
   "source": [
    "oc = empca_residuals('apogee','clusters',maskFilter,ask=True,degree=2,datadir = datadir)\n",
    "oc.findResiduals(gen=True)\n",
    "oc.pixelEMPCA(nvecs=5,varfunc=np.ma.var,savename='eig5_minSNR50_corrNone_var.pkl')\n",
    "oc.pixelEMPCA(nvecs=5,varfunc=meanMed,savename='eig5_minSNR50_corrNone_meanMed.pkl')"
   ]
  },
  {
   "cell_type": "markdown",
   "metadata": {},
   "source": [
    "#### Run the box below using the bolded responses to the prompts\n",
    "\n",
    "```Which data release? (Enter for 12): <press Enter>  \n",
    "Type done at any prompt when finished   \n",
    "Data key: CLUSTER  \n",
    "Default is full range. Match or slice? match  \n",
    "Match value: N6819   \n",
    "And/or? and  \n",
    "Data key: MEANFIB  \n",
    "Default is full range. Match or slice? slice  \n",
    "Upper limit (Enter for maximum): 300  \n",
    "Lower limit (Enter for minimum): 100  \n",
    "Found good limits  \n",
    "And/or? done```\n",
    "\n",
    "#### This box will run in a minute or two"
   ]
  },
  {
   "cell_type": "code",
   "execution_count": null,
   "metadata": {},
   "outputs": [],
   "source": [
    "oc = empca_residuals('apogee','clusters',maskFilter,ask=True,degree=2,badcombpixmask=7935,datadir = datadir)\n",
    "oc.findResiduals(gen=True)\n",
    "oc.pixelEMPCA(nvecs=5,varfunc=np.ma.var,savename='eig5_minSNR50_corrNone_var.pkl')\n",
    "oc.pixelEMPCA(nvecs=5,varfunc=meanMed,savename='eig5_minSNR50_corrNone_meanMed.pkl')"
   ]
  },
  {
   "cell_type": "code",
   "execution_count": null,
   "metadata": {},
   "outputs": [],
   "source": [
    "sys.modules['empca_residuals'] = empcares\n",
    "direcs = ['{0}/clusters_12_CLUSTER_matchN6819/bm4351'.format(datadir),\n",
    "          '{0}/clusters_12_CLUSTER_matchN6819_MEANFIB_up300.0_lo100.0/bm4351'.format(datadir),\n",
    "          '{0}/clusters_12_CLUSTER_matchN6819_MEANFIB_up300.0_lo100.0/bm7935'.format(datadir)]\n",
    "titles = ['Standard mask',\n",
    "          'Fiber cut',\n",
    "          'Fiber cut and \\npersistence\\nmask']\n",
    "models = ['eig5_minSNR50_corrNone_var.pkl',\n",
    "          'eig5_minSNR50_corrNone_meanMed.pkl']\n",
    "labels = [r'$R^2_{\\mathrm{mean}}$',r'$R^2_{\\mathrm{MAD}}$']\n",
    "colors = plt.get_cmap('plasma')(np.linspace(0,0.85,len(models)))\n",
    "contrastR2_methods(direcs,models,labels,colors,titles=titles,figsize=(15,6),savename='PJ2018/figure5.pdf')\n"
   ]
  },
  {
   "cell_type": "markdown",
   "metadata": {},
   "source": [
    "## Figure 6 - R2 for red clump 200K slice subsample comparison"
   ]
  },
  {
   "cell_type": "markdown",
   "metadata": {},
   "source": [
    "### To create the data for this figure, an external script is needed\n",
    "Run **rc_example_method_comp.py** 3 times after modifying the `datadir` variable to match the one defined at the top of this notebook (local directory by default). Each run takes of order a day to complete, so consider running them in parallel and use a tool like [screen](https://www.gnu.org/software/screen/manual/screen.html) to allow them to run in the background.\n",
    "\n",
    "The script will prompt for responses for each of the three runs. Each will create subsamples of the full sample to use in jackknifing - the number of subsamples run in parallel at a given time is controlled by the `maxsamp` parameter at the top of the file. Fill out the prompts for each run with the responses given below.\n",
    "\n",
    "#### First run\n",
    "\n",
    "```Which data release? (Enter for 12): <press Enter>  \n",
    "Type done at any prompt when finished  \n",
    "Data key: TEFF  \n",
    "Default is full range. Match or slice? slice    \n",
    "Upper limit (Enter for maximum): 4900   \n",
    "Lower limit (Enter for minimum): 4700  \n",
    "Found good limits  \n",
    "And/or? done```\n",
    "\n",
    "#### Second run\n",
    "\n",
    "```Which data release? (Enter for 12): <press Enter>  \n",
    "Type done at any prompt when finished  \n",
    "Data key: TEFF  \n",
    "Default is full range. Match or slice? slice    \n",
    "Upper limit (Enter for maximum): 4900   \n",
    "Lower limit (Enter for minimum): 4700  \n",
    "Found good limits  \n",
    "And/or? and \n",
    "Data key: MEANFIB  \n",
    "Default is full range. Match or slice? slice  \n",
    "Upper limit (Enter for maximum): 300  \n",
    "Lower limit (Enter for minimum): 100  \n",
    "Found good limits  \n",
    "And/or? done```\n",
    "\n",
    "#### Third run - prior to beginning this, change the `bmask` variable to 7935\n",
    "\n",
    "```Which data release? (Enter for 12): <press Enter>  \n",
    "Type done at any prompt when finished  \n",
    "Data key: TEFF  \n",
    "Default is full range. Match or slice? slice    \n",
    "Upper limit (Enter for maximum): 4900   \n",
    "Lower limit (Enter for minimum): 4700  \n",
    "Found good limits  \n",
    "And/or? and \n",
    "Data key: MEANFIB  \n",
    "Default is full range. Match or slice? slice  \n",
    "Upper limit (Enter for maximum): 300  \n",
    "Lower limit (Enter for minimum): 100  \n",
    "Found good limits  \n",
    "And/or? done```"
   ]
  },
  {
   "cell_type": "code",
   "execution_count": null,
   "metadata": {},
   "outputs": [],
   "source": [
    "direcs = ['{0}/red_clump_12_TEFF_up4900.0_lo4700.0/bm4351'.format(datadir),\n",
    "          '{0}/red_clump_12_TEFF_up4900.0_lo4700.0_MEANFIB_up300.0_lo100.0/bm4351'.format(datadir),\n",
    "          '{0}/red_clump_12_TEFF_up4900.0_lo4700.0_MEANFIB_up300.0_lo100.0/bm7935'.format(datadir)]\n",
    "titles = ['Standard\\nmask',\n",
    "          'Fiber cut and\\nstandard\\nmask',\n",
    "          'Fiber cut and\\npersistence\\nmask']\n",
    "models = ['eig20_minSNR50_corrNone_var.pkl',\n",
    "          'eig20_minSNR50_corrNone_meanMed.pkl']\n",
    "labels = [r'$R^2_{\\mathrm{mean}}$',r'$R^2_{\\mathrm{MAD}}$']\n",
    "colors = plt.get_cmap('plasma')(np.linspace(0,0.85,len(models)))        \n",
    "\n",
    "contrastR2_methods(direcs,models,labels,colors,titles=titles,figsize=(15,6),subsamples=25,savename='PJ2018/figure6.pdf')"
   ]
  },
  {
   "cell_type": "markdown",
   "metadata": {},
   "source": [
    "## Figure 7 - Ncells for red clump 200 K slice subsample comparison\n",
    "\n",
    "### This figure uses the same data as in Figure 6 above"
   ]
  },
  {
   "cell_type": "code",
   "execution_count": null,
   "metadata": {},
   "outputs": [],
   "source": [
    "direcs = ['{0}/red_clump_12_TEFF_up4900.0_lo4700.0/bm4351'.format(datadir),\n",
    "          '{0}/red_clump_12_TEFF_up4900.0_lo4700.0_MEANFIB_up300.0_lo100.0/bm4351'.format(datadir),\n",
    "          '{0}/red_clump_12_TEFF_up4900.0_lo4700.0_MEANFIB_up300.0_lo100.0/bm7935'.format(datadir),\n",
    "          '{0}/ctmnorm/red_clump_12_TEFF_up4900.0_lo4700.0_MEANFIB_up300.0_lo100.0/bm7935'.format(datadir)]\n",
    "titles = ['Standard mask',\n",
    "          'Fiber cut',\n",
    "          'Fiber cut and \\npersistence\\nmask',\n",
    "          'Continuum \\nrenormalized']\n",
    "models = ['eig20_minSNR50_corrNone_meanMed.pkl']\n",
    "labels = ['']\n",
    "colors = plt.get_cmap('plasma')(np.linspace(0,0.85,len(models)))\n",
    "\n",
    "contrast_Ncells(direcs,models,labels,colors,titles=titles,figsize=(15,6),generate = True,makemodel=True,savename='PJ2018/figure7.pdf')"
   ]
  },
  {
   "cell_type": "markdown",
   "metadata": {},
   "source": [
    "## Figure 8 - Number of principal components for various samples"
   ]
  },
  {
   "cell_type": "markdown",
   "metadata": {},
   "source": [
    "### This plot also requires an external script to generate data\n",
    "\n",
    "Run **sample_jackknife.py** 5 times after modifying the `datadir` variable to match the one defined at the top of this notebook (local directory by default). Each run takes of order a day to complete, so consider running them in parallel and use a tool like [screen](https://www.gnu.org/software/screen/manual/screen.html) to allow them to run in the background.\n",
    "\n",
    "The script will prompt for responses for each of the five runs. Each will create subsamples of the full sample to use in jackknifing - the number of subsamples run in parallel at a given time is controlled by the `maxsamp` parameter at the top of the file.  Fill out the prompts for each run with the responses given below.\n",
    "\n",
    "For strict reproduction, one also needs to fix the random seed to be consistent. This will only ensure reproducability on the same machine, not between users, but I've put the random seeds used by the authors for each run, which can be set by changing the `seed` variable.\n",
    "\n",
    "#### First run - seed 44\n",
    "```Which data release? (Enter for 12): <press Enter>  \n",
    "Type done at any prompt when finished  \n",
    "Data key: TEFF  \n",
    "Default is full range. Match or slice? slice    \n",
    "Upper limit (Enter for maximum): 4800   \n",
    "Lower limit (Enter for minimum): 4700  \n",
    "Found good limits  \n",
    "And/or? and \n",
    "Data key: MEANFIB  \n",
    "Default is full range. Match or slice? slice  \n",
    "Upper limit (Enter for maximum): 300  \n",
    "Lower limit (Enter for minimum): 100  \n",
    "Found good limits  \n",
    "And/or? done```\n",
    "\n",
    "#### Second run - seed 26\n",
    "```Which data release? (Enter for 12): <press Enter>  \n",
    "Type done at any prompt when finished  \n",
    "Data key: TEFF  \n",
    "Default is full range. Match or slice? slice    \n",
    "Upper limit (Enter for maximum): 4900   \n",
    "Lower limit (Enter for minimum): 4700  \n",
    "Found good limits  \n",
    "And/or? and \n",
    "Data key: MEANFIB  \n",
    "Default is full range. Match or slice? slice  \n",
    "Upper limit (Enter for maximum): 300  \n",
    "Lower limit (Enter for minimum): 100  \n",
    "Found good limits  \n",
    "And/or? done```\n",
    "\n",
    "#### Third run -seed 36\n",
    "```Which data release? (Enter for 12): <press Enter>  \n",
    "Type done at any prompt when finished  \n",
    "Data key: TEFF  \n",
    "Default is full range. Match or slice? slice    \n",
    "Upper limit (Enter for maximum): 4900   \n",
    "Lower limit (Enter for minimum): 4800  \n",
    "Found good limits  \n",
    "And/or? and \n",
    "Data key: MEANFIB  \n",
    "Default is full range. Match or slice? slice  \n",
    "Upper limit (Enter for maximum): 300  \n",
    "Lower limit (Enter for minimum): 100  \n",
    "Found good limits  \n",
    "And/or? done```\n",
    "\n",
    "**Change the `sample_type` variable from `'red_clump'` to `'red_giant'` for subsequent runs.**\n",
    "\n",
    "#### Fourth run - seed 95\n",
    "```Which data release? (Enter for 12): <press Enter>  \n",
    "Type done at any prompt when finished  \n",
    "Data key: LOGG  \n",
    "Default is full range. Match or slice? slice    \n",
    "Upper limit (Enter for maximum): 4   \n",
    "Lower limit (Enter for minimum): 3  \n",
    "Found good limits  \n",
    "And/or? and \n",
    "Data key: MEANFIB  \n",
    "Default is full range. Match or slice? slice  \n",
    "Upper limit (Enter for maximum): 300  \n",
    "Lower limit (Enter for minimum): 100  \n",
    "Found good limits  \n",
    "And/or? done```\n",
    "\n",
    "#### Fifth run - seed 62\n",
    "```Which data release? (Enter for 12): <press Enter>  \n",
    "Type done at any prompt when finished  \n",
    "Data key: LOGG  \n",
    "Default is full range. Match or slice? slice    \n",
    "Upper limit (Enter for maximum): 3   \n",
    "Lower limit (Enter for minimum): 2  \n",
    "Found good limits  \n",
    "And/or? and \n",
    "Data key: MEANFIB  \n",
    "Default is full range. Match or slice? slice  \n",
    "Upper limit (Enter for maximum): 300  \n",
    "Lower limit (Enter for minimum): 100  \n",
    "Found good limits  \n",
    "And/or? done```"
   ]
  },
  {
   "cell_type": "code",
   "execution_count": null,
   "metadata": {},
   "outputs": [],
   "source": [
    "direcs = ['{0}/red_clump_12_TEFF_up4800.0_lo4700.0_MEANFIB_up300.0_lo100.0/bm7935'.format(datadir),\n",
    "          '{0}/red_clump_12_TEFF_up4900.0_lo4700.0_MEANFIB_up300.0_lo100.0/bm7935'.format(datadir),\n",
    "          '{0}/red_clump_12_TEFF_up4900.0_lo4800.0_MEANFIB_up300.0_lo100.0/bm7935'.format(datadir),\n",
    "          '{0}/red_giant_12_LOGG_up4.0_lo3.0_MEANFIB_up300.0_lo100.0/bm7935'.format(datadir),\n",
    "          '{0}/red_giant_12_LOGG_up3.0_lo2.0_MEANFIB_up300.0_lo100.0/bm7935'.format(datadir)]\n",
    "labels = ['RC $4700\\,\\mathrm{K} < T_{\\mathrm{eff}} < 4800\\,\\mathrm{K}$',\n",
    "          'RC $4700\\,\\mathrm{K} < T_{\\mathrm{eff}} < 4900\\,\\mathrm{K}$',\n",
    "          'RC $4800\\,\\mathrm{K} < T_{\\mathrm{eff}} < 4900\\,\\mathrm{K}$',\n",
    "          'RG $3.0 < \\log g < 4.0$',\n",
    "          'RG $2.0 < \\log g < 3.0$']\n",
    "models = ['eig20_minSNR50_corrNone_meanMed.pkl']\n",
    "\n",
    "# Set to empty list to use all available data\n",
    "seeds = [44,26,36,95,62]\n",
    "colours = plt.get_cmap('inferno')(np.linspace(0,0.8,len(models)*len(direcs)))\n",
    "sample_compare_nvec(direcs,models,labels,subsamples=25,figsize=(8,8),seeds=seeds,colours=colours,\n",
    "                    savename='PJ2018/figure8.pdf',rotation=45,ha='right',bottom_margin=0.35)"
   ]
  },
  {
   "cell_type": "markdown",
   "metadata": {},
   "source": [
    "## Figure 9 - Ncells for various samples\n",
    "### This figure uses the same data as in Figure 8 above"
   ]
  },
  {
   "cell_type": "code",
   "execution_count": null,
   "metadata": {},
   "outputs": [],
   "source": [
    "direcs = ['{0}/red_clump_12_TEFF_up4800.0_lo4700.0_MEANFIB_up300.0_lo100.0/bm7935'.format(datadir),\n",
    "          '{0}/red_clump_12_TEFF_up4900.0_lo4700.0_MEANFIB_up300.0_lo100.0/bm7935'.format(datadir),\n",
    "          '{0}/red_clump_12_TEFF_up4900.0_lo4800.0_MEANFIB_up300.0_lo100.0/bm7935'.format(datadir),\n",
    "          '{0}/red_giant_12_LOGG_up4.0_lo3.0_MEANFIB_up300.0_lo100.0/bm7935'.format(datadir),\n",
    "          '{0}/red_giant_12_LOGG_up3.0_lo2.0_MEANFIB_up300.0_lo100.0/bm7935'.format(datadir)]\n",
    "labels = ['RC $4700\\,\\mathrm{K} < T_{\\mathrm{eff}} < 4800\\,\\mathrm{K}$',\n",
    "          'RC $4700\\,\\mathrm{K} < T_{\\mathrm{eff}} < 4900\\,\\mathrm{K}$',\n",
    "          'RC $4800\\,\\mathrm{K} < T_{\\mathrm{eff}} < 4900\\,\\mathrm{K}$',\n",
    "          'RG $3.0 < \\log g < 4.0$',\n",
    "          'RG $2.0 < \\log g < 3.0$']\n",
    "models = ['eig20_minSNR50_corrNone_meanMed.pkl']\n",
    "\n",
    "# Set to empty list to use all available data\n",
    "seeds = [44,26,36,95,62]\n",
    "colours = plt.get_cmap('inferno')(np.linspace(0,0.8,len(models)*len(direcs)))\n",
    "sample_compare_ncells(direcs,models,labels,subsamples=25,generate=True,seeds=seeds,figsize=(8,8),colours=colours,\n",
    "                      savename='PJ2018/figure9.pdf',rotation=45,ha='right',bottom_margin=0.35)"
   ]
  },
  {
   "cell_type": "markdown",
   "metadata": {},
   "source": [
    "## Figure 10 - Median-scaled principal components in example slice"
   ]
  },
  {
   "cell_type": "code",
   "execution_count": null,
   "metadata": {},
   "outputs": [],
   "source": [
    "direcs = ['{0}/red_clump_12_TEFF_up4900.0_lo4700.0_MEANFIB_up300.0_lo100.0/bm7935'.format(datadir)]\n",
    "# Number of eigenvectors to plot\n",
    "n=10\n",
    "# Pixel range\n",
    "pixup = 8575\n",
    "pixdown = 0\n",
    "# Load and assign model data\n",
    "subrcmodel = np.load('{0}/eig20_minSNR50_corrNone_meanMed.pkl_data.npz'.format(direcs[0]))\n",
    "eigvec = subrcmodel['eigvec']\n",
    "coeff = subrcmodel['coeff']\n",
    "# Scale components by median coefficient and offset each component \n",
    "medcoeff = np.tile(np.median(np.sqrt(coeff**2),axis=0),(7214,1)).T\n",
    "oset = 0.007\n",
    "plt.figure(figsize=(15,8))\n",
    "plot_fullvec((eigvec*medcoeff)[:n],n=n,pixup=pixup,pixdown=pixdown,oset=oset,ncol = 4,cmap='plasma',\n",
    "             maxval=0.67)\n",
    "plt.savefig('PJ2018/figure10/pdf')\n",
    "plt.axvline(1.527)"
   ]
  },
  {
   "cell_type": "markdown",
   "metadata": {},
   "source": [
    "## Figure 11 - Zoomed in PCs"
   ]
  },
  {
   "cell_type": "markdown",
   "metadata": {},
   "source": [
    "```Which data release? (Enter for 12): <press Enter>  \n",
    "Type done at any prompt when finished  \n",
    "Data key: TEFF  \n",
    "Default is full range. Match or slice? slice    \n",
    "Upper limit (Enter for maximum): 4900   \n",
    "Lower limit (Enter for minimum): 4700  \n",
    "Found good limits  \n",
    "And/or? and \n",
    "Data key: MEANFIB  \n",
    "Default is full range. Match or slice? slice  \n",
    "Upper limit (Enter for maximum): 300  \n",
    "Lower limit (Enter for minimum): 100  \n",
    "Found good limits  \n",
    "And/or? done```"
   ]
  },
  {
   "cell_type": "code",
   "execution_count": null,
   "metadata": {},
   "outputs": [],
   "source": [
    "rcdist_sample = empca_residuals('apogee','red_clump',maskFilter,ask=True,\n",
    "                                badcombpixmask=7935,\n",
    "                                datadir='/geir_data/scr/price-jones/Data/apogee_dim_reduction')"
   ]
  },
  {
   "cell_type": "code",
   "execution_count": null,
   "metadata": {},
   "outputs": [],
   "source": [
    "Nstars = 1\n",
    "\n",
    "teffs = rcdist_sample.teff\n",
    "teffs = np.median(teffs[teffs!=-9999])\n",
    "loggs = rcdist_sample.logg\n",
    "loggs = np.median(loggs[loggs!=-9999])\n",
    "m_hs = rcdist_sample.data['METALS']\n",
    "m_hs = np.median(m_hs[m_hs!=-9999])\n",
    "a_fes = rcdist_sample.data['ALPHAFE']\n",
    "a_fes= np.median(a_fes[a_fes!=-9999])\n",
    "fe_hs = rcdist_sample.fe_h\n",
    "fe_hs = np.median(fe_hs[fe_hs!=-9999])\n",
    "c_hs = rcdist_sample.c_h\n",
    "c_hs = np.median(c_hs[c_hs!=-9999])\n",
    "n_hs = rcdist_sample.n_h\n",
    "n_hs = np.median(n_hs[n_hs!=-9999])\n",
    "o_hs = rcdist_sample.o_h\n",
    "o_hs = np.median(o_hs[o_hs!=-9999])\n",
    "na_hs = rcdist_sample.data['NA_H']\n",
    "na_hs = np.median(na_hs[na_hs!=-9999])\n",
    "mg_hs = rcdist_sample.data['MG_H']\n",
    "mg_hs = np.median(mg_hs[mg_hs!=-9999])\n",
    "al_hs = rcdist_sample.data['AL_H']\n",
    "al_hs = np.median(al_hs[al_hs!=-9999])\n",
    "si_hs = rcdist_sample.data['SI_H']\n",
    "si_hs = np.median(si_hs[si_hs!=-9999])\n",
    "s_hs = rcdist_sample.data['S_H']\n",
    "s_hs = np.median(s_hs[s_hs!=-9999])\n",
    "k_hs = rcdist_sample.data['K_H']\n",
    "k_hs= np.median(k_hs[k_hs!=-9999])\n",
    "ca_hs = rcdist_sample.data['CA_H']\n",
    "ca_hs = np.median(ca_hs[ca_hs!=-9999])\n",
    "ti_hs = rcdist_sample.data['TI_H']\n",
    "ti_hs = np.median(ti_hs[ti_hs!=-9999])\n",
    "v_hs = rcdist_sample.data['V_H']\n",
    "v_hs = np.median(v_hs[v_hs!=-9999])\n",
    "mn_hs = rcdist_sample.data['MN_H']\n",
    "mn_hs = np.median(mn_hs[mn_hs!=-9999])\n",
    "ni_hs = rcdist_sample.data['NI_H']\n",
    "ni_hs = np.median(ni_hs[ni_hs!=-9999])\n",
    "\n",
    "atm= atlas9.Atlas9Atmosphere(teff=teffs,logg=loggs,metals=m_hs,am=a_fes,cm=0.25)\n",
    "# The following takes a while ...\n",
    "synspeca= apogee.modelspec.turbospec.synth([6,c_hs],[7,n_hs],[8,o_hs],[11,na_hs],[12,mg_hs],[13,al_hs],\n",
    "                                           [14,si_hs],[16,s_hs],[19,k_hs],[20,ca_hs],[22,ti_hs],\n",
    "                                           [23,v_hs],[25,mn_hs],[28,ni_hs],[26,fe_hs],modelatm=atm,\n",
    "                                          linelist='201404080919',lsf='all',cont='cannon',\n",
    "                                          vmacro=6.,isotopes='solar')"
   ]
  },
  {
   "cell_type": "code",
   "execution_count": null,
   "metadata": {},
   "outputs": [],
   "source": [
    "ranges = ([1.525,1.529],[1.543,1.547],[1.620,1.624])\n",
    "num = 3\n",
    "plt.figure(figsize=(15,10))\n",
    "ax = plt.subplot(111)\n",
    "k = 0\n",
    "order = [1,4,7,2,5,8,3,6,9]\n",
    "yranges = np.arange(-0.1,0.06,0.05)[1:]\n",
    "for i in range(len(ranges)):\n",
    "    print i\n",
    "    down,up = ranges[i]\n",
    "    wvrange = np.array([down*1e4,up*1e4])\n",
    "    pixmin,pixmax = wv2pix(wvrange,apStarWavegrid=True)\n",
    "    colors = plt.get_cmap('viridis')(np.linspace(0.5,0.9,3))\n",
    "    for e in range(num):\n",
    "        ax = plt.subplot(num,3,order[k])\n",
    "        if pixmin < 0:\n",
    "            pixmin = 0\n",
    "        if pixmax > 8575:\n",
    "            pixmax = 8575\n",
    "        wv = pix2wv(np.arange(pixmin,pixmax),apStarWavegrid=True)\n",
    "        xranges = np.arange((min(wv)/1e4)+0.005,(max(wv)/1e4)+0.005,0.005)\n",
    "        if e == 1:\n",
    "            ax.plot(wv/1e4,-toApStarGrid(eigvec[e])[pixmin:pixmax],color=colors[e],lw=3,label='PC {0}'.format(e+1))\n",
    "        elif e != 1:\n",
    "            ax.plot(wv/1e4,toApStarGrid(eigvec[e])[pixmin:pixmax],color=colors[e],lw=3,label='PC {0}'.format(e+1))\n",
    "        ax.plot(wv/1e4,toApStarGrid(synspec)[pixmin:pixmax],color='k',ls='--',lw=2,label='synthetic\\nspectrum',alpha=0.6)\n",
    "        ax.set_xlim(min(wv)/1e4,max(wv)/1e4)\n",
    "        ax.set_ylim(-0.1,0.06)\n",
    "        if order[k] != 1 and order[k] != 4 and order[k] != 7:\n",
    "            ax.set_yticklabels(['']*len(yranges))\n",
    "        if order[k] == 1 or order[k] == 4 or order[k] == 7:\n",
    "            ax.set_yticks(yranges)\n",
    "            ax.set_yticklabels(yranges)\n",
    "            #ax.set_ylabel('PC magnitude')\n",
    "        if order[k] != 7 and order[k] != 8 and order[k] != 9:\n",
    "            ax.set_xticklabels(['']*len(xranges))\n",
    "        if order[k] == 8:\n",
    "            ax.set_xlabel(r'$\\mu$m')\n",
    "        if order[k] == 3 or order[k] == 6 or order[k] == 9:\n",
    "            legend=plt.legend(loc='best')\n",
    "            legend = plt.legend(loc='best')\n",
    "            legend.get_frame().set_linewidth(0.0)\n",
    "        xminorlocator = MultipleLocator(0.0005)\n",
    "        yminorlocator = MultipleLocator(0.025)\n",
    "        ax.xaxis.set_minor_locator(xminorlocator)\n",
    "        ax.yaxis.set_minor_locator(yminorlocator)\n",
    "        ax.tick_params(which='major',direction='in',length=5,width=2,bottom=True,top=True,left=True,right=True)\n",
    "        ax.tick_params(which='minor',direction='in',length=4,width=1.5,bottom=True,top=True,left=True,right=True)\n",
    "        k+=1\n",
    "ax.annotate('principal component magnitude',(0,0.8),xycoords='figure fraction',rotation=90)\n",
    "plt.tight_layout()\n",
    "plt.subplots_adjust(wspace=0.05,hspace=0.05)\n",
    "plt.savefig('PJ2018/figure11.pdf')"
   ]
  },
  {
   "cell_type": "markdown",
   "metadata": {},
   "source": [
    "## Figure 12 - First principal component"
   ]
  },
  {
   "cell_type": "code",
   "execution_count": null,
   "metadata": {},
   "outputs": [],
   "source": [
    "doplot = True\n",
    "rootfindtol = 2\n",
    "rootmatchtol = 2\n",
    "num = 1\n",
    "k = np.arange(1.516,1.70,0.01)\n",
    "def rootmatch(synspec,eigvec=eigvec,k=k,num=num,rootfindtol=rootfindtol,figs=None,\n",
    "              rootmatchtol=rootmatchtol,doplot=doplot,cutoff=0.01,figsize=(15,15),\n",
    "              pairrange=False,deriv2tol=0):\n",
    "    multimatch = 0\n",
    "    matchsuccesses = np.zeros(num)\n",
    "    matchfails = np.zeros(num)\n",
    "    totalroots = np.zeros(num)\n",
    "    matchfraction = np.zeros(num)\n",
    "    colors = plt.get_cmap('viridis')(np.linspace(0.5,0.9,num))\n",
    "    if not figs:\n",
    "        figs = len(k)\n",
    "    if doplot and figs == 1:\n",
    "        plt.figure(figsize=figsize)\n",
    "    if isinstance(cutoff,float):\n",
    "        cutoff = np.zeros(num)+cutoff\n",
    "    for i in range(len(k)-1):\n",
    "        if doplot and figs == 1:\n",
    "            ax = plt.subplot(len(k),1,i+1)\n",
    "        if doplot and figs > 1:\n",
    "            plt.figure(figsize=figsize)\n",
    "        if not pairrange:\n",
    "            wvrange = np.array([k[i]*1e4,k[i+1]*1e4])\n",
    "        elif pairrange:\n",
    "            wvrange = np.array([k[i][0]*1e4,k[i][1]*1e4])\n",
    "        pixmin,pixmax = wv2pix(wvrange,apStarWavegrid=True)\n",
    "        for e in range(num):\n",
    "            syn = toApStarGrid(synspec)\n",
    "            es = toApStarGrid(eigvec[e])\n",
    "            es[0:322] = np.nan\n",
    "            syn[0:322] = np.nan\n",
    "            es[3242:3648] = np.nan\n",
    "            syn[3242:3648] = np.nan\n",
    "            es[6048:6412] = np.nan\n",
    "            syn[6048:6412] = np.nan\n",
    "            es[8306:] = np.nan\n",
    "            syn[8306:] = np.nan\n",
    "            if doplot and figs > 1:\n",
    "                plt.subplot(num,1,e+1)\n",
    "            if pixmin < 0:\n",
    "                pixmin = 0\n",
    "            if pixmax > 8575:\n",
    "                pixmax = 8575\n",
    "            wv = pix2wv(np.arange(pixmin,pixmax),apStarWavegrid=True)\n",
    "            if doplot:\n",
    "                ax.plot(wv/1e4,es[pixmin:pixmax],color=colors[e],lw=2,label='PC {0}'.format(e+1))\n",
    "                ax.plot(wv/1e4,syn[pixmin:pixmax],color='k',ls='--',alpha=0.6,lw=2,label='synthetic\\nspectrum')\n",
    "            eigfn = interp1d(wv/1e4,toApStarGrid(eigvec[e])[pixmin:pixmax])\n",
    "            eigderiv = interp1d(wv/1e4,np.gradient(toApStarGrid(np.fabs(eigvec[e]))[pixmin:pixmax]))\n",
    "            eigderiv2 = interp1d(wv/1e4,np.gradient(np.gradient(toApStarGrid(np.fabs(eigvec[e]))[pixmin:pixmax])))\n",
    "            synderiv = interp1d(wv/1e4,np.gradient(toApStarGrid(np.fabs(synspec))[pixmin:pixmax]))\n",
    "            synderiv2 = interp1d(wv/1e4,np.gradient(np.gradient(toApStarGrid(np.fabs(synspec))[pixmin:pixmax])))\n",
    "            synroots = []\n",
    "            eigroots = []\n",
    "            r = 0 + pixmin\n",
    "            while r+rootfindtol < pixmax:\n",
    "                a = pix2wv(r,apStarWavegrid=True)/1e4\n",
    "                b = pix2wv(r+rootfindtol,apStarWavegrid=True)/1e4\n",
    "                if np.sign(synderiv(a)) != np.sign(synderiv(b)):\n",
    "                    root = brentq(synderiv,a,b)\n",
    "                    if synderiv2(root) < deriv2tol:\n",
    "                        synroots.append(root)\n",
    "                if np.sign(eigderiv(a)) != np.sign(eigderiv(b)):\n",
    "                    root = brentq(eigderiv,a,b)\n",
    "                    if eigderiv2(root) < deriv2tol:\n",
    "                        eigroots.append(root)         \n",
    "                r+=rootfindtol\n",
    "            synroots = np.array(synroots)\n",
    "            eigroots = np.array(eigroots)\n",
    "            matchroots = np.zeros(len(eigroots))\n",
    "            matchsuccess = 0\n",
    "            matchfail = 0\n",
    "            for t in range(len(eigroots)):\n",
    "                if np.fabs(eigfn(eigroots[t])) >= cutoff[e]:\n",
    "                    rootdiff = wv2pix(synroots*1e4,apStarWavegrid=True)-wv2pix(eigroots[t]*1e4,apStarWavegrid=True)\n",
    "                    matches = np.where(np.fabs(rootdiff)<rootmatchtol)[0]\n",
    "                    if len(matches) > 1:\n",
    "                        multimatch +=1\n",
    "                    elif len(matches) == 1 and synroots[matches] not in matchroots:\n",
    "                        #if doplot:\n",
    "                        #    plt.axvline(eigroots[t],color=colors[e],lw=2,alpha=0.3)\n",
    "                        #    plt.axvline(synroots[matches],color='C3',lw=2,alpha=0.3)\n",
    "                        matchroots[t] = synroots[matches]\n",
    "                        matchsuccess += 1\n",
    "                    elif len(matches) == 0:\n",
    "                        if doplot:\n",
    "                            plt.axvline(eigroots[t],color='k',lw=2,alpha=0.3)\n",
    "                        matchfail += 1\n",
    "            matchsuccesses[e] += matchsuccess\n",
    "            matchfails[e] += matchfail\n",
    "            totalroots[e] += len(eigroots)\n",
    "            if doplot:\n",
    "                \n",
    "                xminorlocator = AutoMinorLocator()\n",
    "                yminorlocator = AutoMinorLocator()\n",
    "                ax.xaxis.set_minor_locator(xminorlocator)\n",
    "                ax.yaxis.set_minor_locator(yminorlocator)\n",
    "                ax.annotate('principal component magnitude',(0.03,0.65),xycoords='figure fraction',rotation=90)\n",
    "                ax.tick_params(which='major',direction='in',length=5,width=2,bottom=True,top=True,left=True,right=True)\n",
    "                ax.tick_params(which='minor',direction='in',length=4,width=1.5,bottom=True,top=True,left=True,right=True)\n",
    "                plt.axhline(-cutoff[e],lw=0.5,color='k',ls='--')\n",
    "                plt.axhline(cutoff[e],lw=0.5,color='k',ls='--')\n",
    "                plt.xlim(min(wv)/1e4,max(wv)/1e4)\n",
    "                plt.ylim(-0.07,0.07)\n",
    "        if doplot and figs > 1:\n",
    "            plt.tight_layout()\n",
    "    if doplot and figs == 1:\n",
    "        plt.xlabel('$\\mu$m')\n",
    "        matplotlib.text.Annotation('normalized flux',(0.01,0.5),xycoords='figure fraction',rotation=90)\n",
    "        plt.subplots_adjust(hspace=0.5)\n",
    "    matchfraction = matchsuccesses.astype(float)/(matchfails+matchsuccesses)\n",
    "    return matchfraction,multimatch"
   ]
  },
  {
   "cell_type": "code",
   "execution_count": null,
   "metadata": {},
   "outputs": [],
   "source": [
    "k = np.array([(1.5165,1.536),(1.536,1.556),(1.556,1.5795),\n",
    "              (1.5877,1.605),(1.605,1.623),(1.623,1.642),\n",
    "              (1.6495,1.675),(1.675,1.694),(1.675,1.7)])\n",
    "\n",
    "a = rootmatch(synspec,eigvec=eigvec,num=1,rootfindtol=1,k=k,\n",
    "              rootmatchtol=1.5,doplot=True,cutoff=0.015,figsize=(15,20),figs=1,\n",
    "             pairrange=True,deriv2tol=-5e-3)\n",
    "colors = plt.get_cmap('viridis')(np.linspace(0.5,0.9,3))\n",
    "#legend=plt.legend(loc='best')\n",
    "plt.subplots_adjust(hspace=0.25)\n",
    "plt.savefig('{0}/PC1_tscomp.pdf'.format(figdir))"
   ]
  }
 ],
 "metadata": {
  "kernelspec": {
   "display_name": "Python 3",
   "language": "python",
   "name": "python3"
  },
  "language_info": {
   "codemirror_mode": {
    "name": "ipython",
    "version": 3
   },
   "file_extension": ".py",
   "mimetype": "text/x-python",
   "name": "python",
   "nbconvert_exporter": "python",
   "pygments_lexer": "ipython3",
   "version": "3.7.6"
  }
 },
 "nbformat": 4,
 "nbformat_minor": 4
}
